{
 "cells": [
  {
   "cell_type": "markdown",
   "id": "60f1115d-07e3-4296-ae72-ff40568c883c",
   "metadata": {},
   "source": [
    "# EXAM1_TUO LI #"
   ]
  },
  {
   "cell_type": "markdown",
   "id": "c68f9025-eb5a-4c91-b9d3-b8a46f378433",
   "metadata": {},
   "source": [
    "Note: All the calculations are done with Python in this notebook. The Excel sheets including the plots were the exports from this notebook."
   ]
  },
  {
   "cell_type": "markdown",
   "id": "5825a6f8-977a-40e0-bd46-3143b7c802fa",
   "metadata": {},
   "source": [
    "# Import libraries #"
   ]
  },
  {
   "cell_type": "code",
   "execution_count": 3,
   "id": "b82cf71e-f4fc-41a3-8a20-6db60e033021",
   "metadata": {},
   "outputs": [],
   "source": [
    "import numpy as np\n",
    "import pandas as pd\n",
    "import matplotlib.pyplot as plt\n",
    "from scipy.stats import norm"
   ]
  },
  {
   "cell_type": "markdown",
   "id": "6f89f757-af90-47d1-be46-defede8324d6",
   "metadata": {},
   "source": [
    "# Optimal Portfolio Allocation #"
   ]
  },
  {
   "cell_type": "markdown",
   "id": "1cb9f287-1451-49e2-b1ad-f75e7911882e",
   "metadata": {},
   "source": [
    "# Question 1 #"
   ]
  },
  {
   "cell_type": "markdown",
   "id": "3f5a7a1b-bcdc-4bdc-9d5c-1c44697b9baf",
   "metadata": {},
   "source": [
    "## • Formulate the Lagrangian and give its partial derivatives. ##"
   ]
  },
  {
   "cell_type": "markdown",
   "id": "e26d7ea2-6a57-4538-a545-b3265ab8768a",
   "metadata": {},
   "source": [
    "With two Lagrange multipliers $\\lambda$ and $\\gamma$, the Lagrangian function is:\n",
    "$$ L(\\omega, \\lambda, \\gamma) = \\frac{1}{2}w^T{\\Sigma}w + {\\lambda}(m-{{\\mu}^T}w) + {\\gamma}(1 - {\\boldsymbol{1}^T}w)$$\n",
    "While:\n",
    "$$ {\\Sigma} = SRS $$"
   ]
  },
  {
   "cell_type": "markdown",
   "id": "0d17ada4-8703-4388-8493-0487b88c8d9a",
   "metadata": {},
   "source": [
    "Here:\n",
    "- $w$ is the vector of weights.\n",
    "- ${\\Sigma}$ is the covariance matrix.\n",
    "- $m$ is the prespecified portfolio return.\n",
    "- ${\\mu}$ is the vector of asset expected returns.\n",
    "- $R$ is the correlation matrix.\n",
    "- $S$ is the diagonal standard deviation matrix.\n"
   ]
  },
  {
   "cell_type": "markdown",
   "id": "8872b195-1538-4215-9e40-57d27a6cc606",
   "metadata": {},
   "source": [
    "Then, we will have the following partial derivatives:\n",
    "$$ \\frac{\\partial L}{\\partial w} (\\omega, \\lambda, \\gamma) = w^T{\\Sigma} - \\lambda {\\mu}^T - \\gamma {\\boldsymbol{1}^T}$$\n",
    "$$ \\frac{\\partial L}{\\partial \\lambda} (\\omega, \\lambda, \\gamma) = m-{{\\mu}^T}w$$\n",
    "$$ \\frac{\\partial L}{\\partial \\gamma} (\\omega, \\lambda, \\gamma) = 1 - {\\boldsymbol{1}^T}w$$"
   ]
  },
  {
   "cell_type": "markdown",
   "id": "8866e215-b15f-4dd1-8f0e-6b1fdba151d1",
   "metadata": {},
   "source": [
    "## • Write down the analytical solution for $w^*$ optimal allocations – no derivation required. ##"
   ]
  },
  {
   "cell_type": "markdown",
   "id": "0ab88d48-22a8-46a6-9966-4a203d81c1cd",
   "metadata": {},
   "source": [
    "To have the optimial allocations $w^*$, we need to have these first order deravatives equal to zero:\n",
    "$$ \\frac{\\partial L}{\\partial w} (\\omega, \\lambda, \\gamma) = w^T{\\Sigma} - \\lambda {\\mu}^T - \\gamma {\\boldsymbol{1}^T} = 0 $$\n",
    "$$ \\frac{\\partial L}{\\partial \\lambda} (\\omega, \\lambda, \\gamma) = m-{{\\mu}^T}w = 0 $$\n",
    "$$ \\frac{\\partial L}{\\partial \\gamma} (\\omega, \\lambda, \\gamma) = 1 - {\\boldsymbol{1}^T}w = 0 $$"
   ]
  },
  {
   "cell_type": "markdown",
   "id": "304c514d-f0f2-45cd-9523-717f6c40f183",
   "metadata": {},
   "source": [
    "Then we will have the following result:\n",
    "$$ w^* = {\\Sigma}^{-1}(\\lambda \\mu + \\gamma {\\boldsymbol{1}})$$"
   ]
  },
  {
   "cell_type": "markdown",
   "id": "d5f32417-b2b7-4c15-b545-05b1f135a4da",
   "metadata": {},
   "source": [
    "Where:\n",
    "$$ \\lambda = \\frac{Am-B}{AC-B^2}$$\n",
    "$$ \\gamma = \\frac{C-Bm}{AC-B^2}$$"
   ]
  },
  {
   "cell_type": "markdown",
   "id": "7c36290b-d0d0-425f-937b-7261814bc9a7",
   "metadata": {},
   "source": [
    "and:\n",
    "$$ A = {\\boldsymbol{1}^T}{\\Sigma}^{-1}{\\boldsymbol{1}} $$\n",
    "$$ B = {\\mu^T}{\\Sigma}^{-1}{\\boldsymbol{1}} $$\n",
    "$$ C = {\\mu^T}{\\Sigma}^{-1}{\\mu} $$"
   ]
  },
  {
   "cell_type": "markdown",
   "id": "2d171a94-1f54-48d3-a78e-211cbc778623",
   "metadata": {},
   "source": [
    "_We can also rewrite $w^*$ by substituing $\\mu$ and $\\lambda$:_\n",
    "$$ w^* = \\frac{1}{AC-B^2}{\\Sigma}^{-1}[(A \\mu - B {\\boldsymbol{1}})m + (C{\\boldsymbol{1}} - B \\mu)]$$"
   ]
  },
  {
   "cell_type": "markdown",
   "id": "5f481e89-bc58-475a-b072-8eda2cfe08b2",
   "metadata": {},
   "source": [
    "## • Compute allocations $w^*$ and portfolio risk ${\\sigma}_{\\Pi} = \\sqrt{w'Σw}$, for $m = 4.5\\%$ ##"
   ]
  },
  {
   "cell_type": "markdown",
   "id": "9d45a6b8-b4f1-4017-841c-e48f53e75a9b",
   "metadata": {},
   "source": [
    "Before getting started, we need to do some preparation works. <br>\n",
    "First of all, we will define our vector of returns $μ$:\n",
    "$${\\mu} = \\begin{pmatrix}0.02\\\\ 0.07\\\\ 0.15\\\\ 0.2\\end{pmatrix}$$"
   ]
  },
  {
   "cell_type": "code",
   "execution_count": 4,
   "id": "25166528-0b99-4c55-97de-21b3f850b1ec",
   "metadata": {},
   "outputs": [],
   "source": [
    "mu = np.array([[0.02], [0.07], [0.15],[0.2]])"
   ]
  },
  {
   "cell_type": "markdown",
   "id": "bca3c531-1fdd-403e-92c0-46717b71c532",
   "metadata": {},
   "source": [
    "Then, we need to construct the standard deviation matrix $S$:\n",
    "$$ S = \\begin{pmatrix}\n",
    "0.05 & 0 & 0 & 0\n",
    "\\\\ 0 & 0.12 & 0 & 0\n",
    "\\\\ 0 & 0 & 0.17 & 0\n",
    "\\\\ 0 & 0 & 0 & 0.25\n",
    "\\end{pmatrix} $$"
   ]
  },
  {
   "cell_type": "code",
   "execution_count": 5,
   "id": "d5454814-eb5b-4bab-9a84-29dd4b0a6000",
   "metadata": {},
   "outputs": [],
   "source": [
    "S = np.array([[0.05, 0, 0, 0], [0, 0.12, 0, 0], [0, 0, 0.17, 0], [0, 0, 0, 0.25]])"
   ]
  },
  {
   "cell_type": "markdown",
   "id": "50811842-4089-46fe-9ba2-67adf6270bb2",
   "metadata": {},
   "source": [
    "With $S$, we can have the convariance matrix $\\Sigma$ with the following calculation: $$ \\Sigma = SRS = \\begin{pmatrix}\n",
    "0.05 & 0 & 0 & 0\n",
    "\\\\ 0 & 0.12 & 0 & 0\n",
    "\\\\ 0 & 0 & 0.17 & 0\n",
    "\\\\ 0 & 0 & 0 & 0.25\n",
    "\\end{pmatrix} \n",
    "\\begin{pmatrix}\n",
    "1 & 0.3 & 0.3 & 0.3\n",
    "\\\\ 0.3 & 1 & 0.6 & 0.6\n",
    "\\\\ 0.3 & 0.6 & 1 & 0.6\n",
    "\\\\ 0.3 & 0.6 & 0.6 & 1\n",
    "\\end{pmatrix}\n",
    "\\begin{pmatrix}\n",
    "0.05 & 0 & 0 & 0\n",
    "\\\\ 0 & 0.12 & 0 & 0\n",
    "\\\\ 0 & 0 & 0.17 & 0\n",
    "\\\\ 0 & 0 & 0 & 0.25\n",
    "\\end{pmatrix} = \n",
    "\\begin{pmatrix}\n",
    "0.0025 & 0.0018 & 0.00255 & 0.00375\n",
    "\\\\ 0.0018 & 0.0144 & 0.01224 & 0.018\n",
    "\\\\ 0.00255 & 0.01224 & 0.0289 & 0.0255\n",
    "\\\\ 0.00375 & 0.018 & 0.0255 & 0.0625\n",
    "\\end{pmatrix}$$"
   ]
  },
  {
   "cell_type": "code",
   "execution_count": 6,
   "id": "e5e519e3-de1d-43bb-9c1e-111407e1d260",
   "metadata": {},
   "outputs": [],
   "source": [
    "R = np.array([[1, 0.3, 0.3, 0.3], [0.3, 1, 0.6, 0.6], [0.3, 0.6, 1, 0.6], [0.3, 0.6, 0.6, 1]])"
   ]
  },
  {
   "cell_type": "code",
   "execution_count": 7,
   "id": "d93de620-d610-414e-b3ff-d171fe8f71dc",
   "metadata": {},
   "outputs": [
    {
     "name": "stdout",
     "output_type": "stream",
     "text": [
      "[[0.0025  0.0018  0.00255 0.00375]\n",
      " [0.0018  0.0144  0.01224 0.018  ]\n",
      " [0.00255 0.01224 0.0289  0.0255 ]\n",
      " [0.00375 0.018   0.0255  0.0625 ]]\n"
     ]
    }
   ],
   "source": [
    "SIGMA = S@R@S\n",
    "print (SIGMA) "
   ]
  },
  {
   "cell_type": "markdown",
   "id": "17c8992b-4c72-4d96-aafe-af76ae0db843",
   "metadata": {},
   "source": [
    "Next, let's dive into the question.</br>\n",
    "When $m = 4.5%$, we can calculate $A$, $B$, $C$ as follows:\n",
    "$$ A = {\\boldsymbol{1}^T}{\\Sigma}^{-1}{\\boldsymbol{1}} =\n",
    "\\begin{pmatrix}\n",
    "1 & 1 & 1 & 1\n",
    "\\end{pmatrix}\n",
    "\\begin{pmatrix}\n",
    "0.0025 & 0.0018 & 0.00255 & 0.00375\n",
    "\\\\ 0.0018 & 0.0144 & 0.01224 & 0.018\n",
    "\\\\ 0.00255 & 0.01224 & 0.0289 & 0.0255\n",
    "\\\\ 0.00375 & 0.018 & 0.0255 & 0.0625\n",
    "\\end{pmatrix}^{-1}\n",
    "\\begin{pmatrix}\n",
    "1\n",
    "\\\\ 1\n",
    "\\\\ 1\n",
    "\\\\ 1\n",
    "\\end{pmatrix} \\approx 423.6149806869816$$\n",
    "$$ B = {\\mu^T}{\\Sigma}^{-1}{\\boldsymbol{1}} = \n",
    "\\begin{pmatrix}\n",
    "0.02 & 0.07 & 0.15 & 0.2\n",
    "\\end{pmatrix}\n",
    "\\begin{pmatrix}\n",
    "0.0025 & 0.0018 & 0.00255 & 0.00375\n",
    "\\\\ 0.0018 & 0.0144 & 0.01224 & 0.018\n",
    "\\\\ 0.00255 & 0.01224 & 0.0289 & 0.0255\n",
    "\\\\ 0.00375 & 0.018 & 0.0255 & 0.0625\n",
    "\\end{pmatrix}^{-1}\n",
    "\\begin{pmatrix}\n",
    "1\n",
    "\\\\ 1\n",
    "\\\\ 1\n",
    "\\\\ 1\n",
    "\\end{pmatrix} \\approx 6.807020715428303 \n",
    "$$\n",
    "$$ C = {\\mu^T}{\\Sigma}^{-1}{\\mu} =\n",
    "\\begin{pmatrix}\n",
    "0.02 & 0.07 & 0.15 & 0.2\n",
    "\\end{pmatrix}\n",
    "\\begin{pmatrix}\n",
    "0.0025 & 0.0018 & 0.00255 & 0.00375\n",
    "\\\\ 0.0018 & 0.0144 & 0.01224 & 0.018\n",
    "\\\\ 0.00255 & 0.01224 & 0.0289 & 0.0255\n",
    "\\\\ 0.00375 & 0.018 & 0.0255 & 0.0625\n",
    "\\end{pmatrix}^{-1}\n",
    "\\begin{pmatrix}\n",
    "0.02\n",
    "\\\\ 0.07\n",
    "\\\\ 0.15\n",
    "\\\\ 0.2\n",
    "\\end{pmatrix} \\approx 0.9065089304034119 $$"
   ]
  },
  {
   "cell_type": "code",
   "execution_count": 8,
   "id": "ac09a5e0-b80c-4793-bae6-14dd492a098b",
   "metadata": {},
   "outputs": [],
   "source": [
    "m = 0.045\n",
    "one = np.array([[1], [1], [1], [1]])"
   ]
  },
  {
   "cell_type": "code",
   "execution_count": 9,
   "id": "002555f6-6171-415c-8c3a-31908a58d6f7",
   "metadata": {},
   "outputs": [
    {
     "name": "stdout",
     "output_type": "stream",
     "text": [
      "423.6149806869816\n"
     ]
    }
   ],
   "source": [
    "A = one.T@np.linalg.inv(SIGMA)@one\n",
    "A = A[0,0].item()\n",
    "print (A)"
   ]
  },
  {
   "cell_type": "code",
   "execution_count": 10,
   "id": "b750b92c-bc8a-428e-93a7-4b0cf725e03b",
   "metadata": {},
   "outputs": [
    {
     "name": "stdout",
     "output_type": "stream",
     "text": [
      "6.807020715428303\n"
     ]
    }
   ],
   "source": [
    "B = mu.T@np.linalg.inv(SIGMA)@one\n",
    "B = B[0,0].item()\n",
    "print (B)"
   ]
  },
  {
   "cell_type": "code",
   "execution_count": 11,
   "id": "6ddfb0a4-ee55-4587-80bf-01633f703194",
   "metadata": {},
   "outputs": [
    {
     "name": "stdout",
     "output_type": "stream",
     "text": [
      "0.9065089304034119\n"
     ]
    }
   ],
   "source": [
    "C = mu.T@np.linalg.inv(SIGMA)@mu\n",
    "C = C[0,0].item()\n",
    "print(C)"
   ]
  },
  {
   "cell_type": "markdown",
   "id": "eb1ec4fb-0310-451d-b0df-23a4267cb684",
   "metadata": {},
   "source": [
    "Then, we will have $\\lambda$ and $\\gamma$:\n",
    "$$ \\lambda = \\frac{Am-B}{AC-B^2} \\approx \\frac{423.6149806869816{\\times}0.045-6.807020715428303}{423.6149806869816*0.9065089304034119-6.807020715428303^2} \\approx 0.036294202989022174 $$\n",
    "$$ \\gamma = \\frac{C-Bm}{AC-B^2} \\approx \\frac{0.9065089304034119 - 6.807020715428303{\\times}0.045}{423.6149806869816*0.9065089304034119-6.807020715428303^2} \\approx 0.0017774267736771414 $$"
   ]
  },
  {
   "cell_type": "code",
   "execution_count": 12,
   "id": "c8d67e09-0443-46a0-ac01-30b160e18708",
   "metadata": {},
   "outputs": [
    {
     "name": "stdout",
     "output_type": "stream",
     "text": [
      "0.036294202989022174\n",
      "0.0017774267736771414\n"
     ]
    }
   ],
   "source": [
    "lbd = (A*m - B)/(A*C-B**2)\n",
    "gamma = (C-B*m)/(A*C-B**2)\n",
    "print(lbd)\n",
    "print(gamma)"
   ]
  },
  {
   "cell_type": "markdown",
   "id": "fca74338-6efd-480f-812c-7790c2ed8e67",
   "metadata": {},
   "source": [
    "Finally, we will have the result $w^*$:\n",
    "$$ w^* = {\\Sigma}^{-1}(\\lambda \\mu + \\gamma {\\boldsymbol{1}}) = \n",
    "\\begin{pmatrix}\n",
    "0.0025 & 0.0018 & 0.00255 & 0.00375\n",
    "\\\\ 0.0018 & 0.0144 & 0.01224 & 0.018\n",
    "\\\\ 0.00255 & 0.01224 & 0.0289 & 0.0255\n",
    "\\\\ 0.00375 & 0.018 & 0.0255 & 0.0625\n",
    "\\end{pmatrix}^{-1}\n",
    "[0.036294202989022174 \\begin{pmatrix}\n",
    "0.02\n",
    "\\\\ 0.07\n",
    "\\\\ 0.15\n",
    "\\\\ 0.2\n",
    "\\end{pmatrix} + \n",
    "0.0017774267736771414 \\begin{pmatrix}\n",
    "1\n",
    "\\\\ 1\n",
    "\\\\ 1\n",
    "\\\\ 1\n",
    "\\end{pmatrix}] \\approx\n",
    "\\begin{pmatrix}\n",
    "0.78511066\n",
    "\\\\ 0.05386419\n",
    "\\\\ 0.13355472\n",
    "\\\\ 0.02747042\n",
    "\\end{pmatrix}\n",
    "$$"
   ]
  },
  {
   "cell_type": "code",
   "execution_count": 13,
   "id": "d1e08076-717d-40a6-a287-3337b285a7e1",
   "metadata": {},
   "outputs": [
    {
     "data": {
      "text/plain": [
       "array([[0.78511066],\n",
       "       [0.05386419],\n",
       "       [0.13355472],\n",
       "       [0.02747042]])"
      ]
     },
     "execution_count": 13,
     "metadata": {},
     "output_type": "execute_result"
    }
   ],
   "source": [
    "w_opt = np.linalg.inv(SIGMA)@(lbd*mu + gamma*one)\n",
    "w_opt"
   ]
  },
  {
   "cell_type": "markdown",
   "id": "e343d9a3-e712-4f7a-bbac-457c3e203a98",
   "metadata": {},
   "source": [
    "At the same time, the portfolio risk will be: \n",
    "$$ σ_Π = \\sqrt{w^TΣw} = \\sqrt{ \\begin{pmatrix}\n",
    "0.78511066 & 0.05386419 & 0.13355472 & 0.02747042\n",
    "\\end{pmatrix}\n",
    "\\begin{pmatrix}\n",
    "0.0025 & 0.0018 & 0.00255 & 0.00375\n",
    "\\\\ 0.0018 & 0.0144 & 0.01224 & 0.018\n",
    "\\\\ 0.00255 & 0.01224 & 0.0289 & 0.0255\n",
    "\\\\ 0.00375 & 0.018 & 0.0255 & 0.0625\n",
    "\\end{pmatrix}\n",
    "\\begin{pmatrix}\n",
    "0.78511066\n",
    "\\\\ 0.05386419\n",
    "\\\\ 0.13355472\n",
    "\\\\ 0.02747042\n",
    "\\end{pmatrix}}  \\approx 0.05840091$$\n"
   ]
  },
  {
   "cell_type": "code",
   "execution_count": 14,
   "id": "f3a4d416-8ac2-4a6b-9526-ef4c7dfb9d84",
   "metadata": {},
   "outputs": [
    {
     "name": "stdout",
     "output_type": "stream",
     "text": [
      "0.05840090674110412\n"
     ]
    }
   ],
   "source": [
    "sigma = np.sqrt(w_opt.T@SIGMA@w_opt)\n",
    "sigma = sigma[0,0].item()\n",
    "print(sigma)"
   ]
  },
  {
   "cell_type": "markdown",
   "id": "69936a6b-af01-4eda-8a76-4075de8d03ae",
   "metadata": {},
   "source": [
    "### In conclusiton, my answer to this question is: ###\n",
    "### $$ w^* \\approx \\begin{pmatrix} 78.5\\% \\\\ 5.4\\% \\\\ 13.4\\% \\\\ 2.7\\% \\end{pmatrix}$$ ### \n",
    "### $$ {\\sigma}_{\\Pi}  \\approx 0.05840091 $$ ###"
   ]
  },
  {
   "cell_type": "markdown",
   "id": "0866d9e5-186b-4c1f-93b8-30b3dbd2673b",
   "metadata": {},
   "source": [
    "# Question 2 #"
   ]
  },
  {
   "cell_type": "markdown",
   "id": "6ec93e6f-1b79-4041-984c-0721b9a05b0c",
   "metadata": {},
   "source": [
    "## • Generate above 700 random allocation sets: 4 × 1 vectors. Each set has to satisfy the constraint $ w^T {\\boldsymbol{1}} = 1 $. Weights will not be optimal and can be negative ##"
   ]
  },
  {
   "cell_type": "markdown",
   "id": "495fd2fb-792b-43ec-a961-aa68ac85bd8c",
   "metadata": {},
   "source": [
    "I will use Python to generate the random numbers:\n",
    "- I decide to generate 800 random allocation sets of numbers, and store them into a dataframe first. \n",
    "- Meanwhile, although the weights can be negative, I don't want the numbers look too exaggerated. I will keep $w_1$, $w_2$, $w_3$ in each set between -0.5 and 1.5. $w_4$ is calcuated by using $1-(w_1+w_2+w_3)$.<br>\n",
    "- Last but not least, I prefer to have 4 decimal points for these random numbers."
   ]
  },
  {
   "cell_type": "code",
   "execution_count": 13,
   "id": "40abd3c6-c856-4833-b4e8-4e2ebdc4b61d",
   "metadata": {},
   "outputs": [],
   "source": [
    "def generate_numbers():\n",
    "    while True:\n",
    "        # Generate random numbers with 4 decimal points\n",
    "        numbers = np.round(np.random.uniform(-0.5, 1.5, 4), 4)\n",
    "        # Adjust the last number to make the sum strictly equal to 1\n",
    "        numbers[-1] = np.round(1 - np.sum(numbers[:-1]), 4)\n",
    "        # Check if the last adjustment meets the criteria\n",
    "        if -0.5 < np.min(numbers) and np.max(numbers) < 1.5 and np.sum(numbers) == 1:\n",
    "            return numbers\n",
    "\n",
    "# Generate 800 sets of numbers\n",
    "sets_of_numbers = [generate_numbers() for _ in range(800)]\n",
    "\n",
    "# Create a DataFrame with the sets of numbers\n",
    "df_random_weights = pd.DataFrame(sets_of_numbers, columns=['w1', 'w2', 'w3', 'w4'])"
   ]
  },
  {
   "cell_type": "code",
   "execution_count": 14,
   "id": "17ad5c27-711a-40af-ba6b-261599926aaf",
   "metadata": {},
   "outputs": [
    {
     "name": "stdout",
     "output_type": "stream",
     "text": [
      "<class 'pandas.core.frame.DataFrame'>\n",
      "RangeIndex: 800 entries, 0 to 799\n",
      "Data columns (total 4 columns):\n",
      " #   Column  Non-Null Count  Dtype  \n",
      "---  ------  --------------  -----  \n",
      " 0   w1      800 non-null    float64\n",
      " 1   w2      800 non-null    float64\n",
      " 2   w3      800 non-null    float64\n",
      " 3   w4      800 non-null    float64\n",
      "dtypes: float64(4)\n",
      "memory usage: 25.1 KB\n"
     ]
    }
   ],
   "source": [
    "df_random_weights.info()"
   ]
  },
  {
   "cell_type": "code",
   "execution_count": 15,
   "id": "23e549bd-4c9d-49b7-aec0-9311ab7a3e14",
   "metadata": {},
   "outputs": [
    {
     "data": {
      "text/html": [
       "<div>\n",
       "<style scoped>\n",
       "    .dataframe tbody tr th:only-of-type {\n",
       "        vertical-align: middle;\n",
       "    }\n",
       "\n",
       "    .dataframe tbody tr th {\n",
       "        vertical-align: top;\n",
       "    }\n",
       "\n",
       "    .dataframe thead th {\n",
       "        text-align: right;\n",
       "    }\n",
       "</style>\n",
       "<table border=\"1\" class=\"dataframe\">\n",
       "  <thead>\n",
       "    <tr style=\"text-align: right;\">\n",
       "      <th></th>\n",
       "      <th>w1</th>\n",
       "      <th>w2</th>\n",
       "      <th>w3</th>\n",
       "      <th>w4</th>\n",
       "    </tr>\n",
       "  </thead>\n",
       "  <tbody>\n",
       "    <tr>\n",
       "      <th>0</th>\n",
       "      <td>-0.2515</td>\n",
       "      <td>0.2986</td>\n",
       "      <td>0.6489</td>\n",
       "      <td>0.3040</td>\n",
       "    </tr>\n",
       "    <tr>\n",
       "      <th>1</th>\n",
       "      <td>-0.1170</td>\n",
       "      <td>1.1189</td>\n",
       "      <td>-0.1439</td>\n",
       "      <td>0.1420</td>\n",
       "    </tr>\n",
       "    <tr>\n",
       "      <th>2</th>\n",
       "      <td>-0.4673</td>\n",
       "      <td>0.7144</td>\n",
       "      <td>0.6925</td>\n",
       "      <td>0.0604</td>\n",
       "    </tr>\n",
       "    <tr>\n",
       "      <th>3</th>\n",
       "      <td>0.1864</td>\n",
       "      <td>-0.4643</td>\n",
       "      <td>1.2199</td>\n",
       "      <td>0.0580</td>\n",
       "    </tr>\n",
       "    <tr>\n",
       "      <th>4</th>\n",
       "      <td>-0.3180</td>\n",
       "      <td>0.9061</td>\n",
       "      <td>0.6221</td>\n",
       "      <td>-0.2102</td>\n",
       "    </tr>\n",
       "  </tbody>\n",
       "</table>\n",
       "</div>"
      ],
      "text/plain": [
       "       w1      w2      w3      w4\n",
       "0 -0.2515  0.2986  0.6489  0.3040\n",
       "1 -0.1170  1.1189 -0.1439  0.1420\n",
       "2 -0.4673  0.7144  0.6925  0.0604\n",
       "3  0.1864 -0.4643  1.2199  0.0580\n",
       "4 -0.3180  0.9061  0.6221 -0.2102"
      ]
     },
     "execution_count": 15,
     "metadata": {},
     "output_type": "execute_result"
    }
   ],
   "source": [
    "df_random_weights.head()"
   ]
  },
  {
   "cell_type": "markdown",
   "id": "6495443b-1c2d-4982-9022-655ee6315ed9",
   "metadata": {},
   "source": [
    "## • For each set, compute $μ_Π = w^Tμ$ and $σ_Π = \\sqrt{w^TΣw}$ ##"
   ]
  },
  {
   "cell_type": "markdown",
   "id": "a45ff3f0-3942-4d2f-bf96-90cfcdcc1a9a",
   "metadata": {},
   "source": [
    "I will add two more columns 'μ' and 'σ' to the dataframe to represent $\\mu_\\Pi$ and $\\sigma_\\Pi$. <br>\n",
    "The values in these 2 new columns will be calculated based on the formulas above."
   ]
  },
  {
   "cell_type": "code",
   "execution_count": 38,
   "id": "0bc02301-609d-4073-8004-278181aaee55",
   "metadata": {},
   "outputs": [],
   "source": [
    "df_random_weights['μ'] = df_random_weights.apply(lambda row: np.dot(row[['w1', 'w2', 'w3', 'w4']].values, mu)[0], axis=1)\n",
    "df_random_weights['σ'] = df_random_weights.apply(lambda row: np.sqrt(np.dot(row[['w1', 'w2', 'w3', 'w4']].values @ SIGMA,\n",
    "                                                                            row[['w1', 'w2', 'w3', 'w4']].values.T)), axis=1)"
   ]
  },
  {
   "cell_type": "code",
   "execution_count": 43,
   "id": "3d39bf84-1dfa-45ec-ac2d-0cc768a75a43",
   "metadata": {},
   "outputs": [
    {
     "name": "stdout",
     "output_type": "stream",
     "text": [
      "<class 'pandas.core.frame.DataFrame'>\n",
      "RangeIndex: 800 entries, 0 to 799\n",
      "Data columns (total 6 columns):\n",
      " #   Column  Non-Null Count  Dtype  \n",
      "---  ------  --------------  -----  \n",
      " 0   w1      800 non-null    float64\n",
      " 1   w2      800 non-null    float64\n",
      " 2   w3      800 non-null    float64\n",
      " 3   w4      800 non-null    float64\n",
      " 4   μ       800 non-null    float64\n",
      " 5   σ       800 non-null    float64\n",
      "dtypes: float64(6)\n",
      "memory usage: 37.6 KB\n"
     ]
    }
   ],
   "source": [
    "df_random_weights.info()"
   ]
  },
  {
   "cell_type": "code",
   "execution_count": 44,
   "id": "b6f6968d-be71-4483-87e8-b6d0d3560939",
   "metadata": {},
   "outputs": [
    {
     "data": {
      "text/html": [
       "<div>\n",
       "<style scoped>\n",
       "    .dataframe tbody tr th:only-of-type {\n",
       "        vertical-align: middle;\n",
       "    }\n",
       "\n",
       "    .dataframe tbody tr th {\n",
       "        vertical-align: top;\n",
       "    }\n",
       "\n",
       "    .dataframe thead th {\n",
       "        text-align: right;\n",
       "    }\n",
       "</style>\n",
       "<table border=\"1\" class=\"dataframe\">\n",
       "  <thead>\n",
       "    <tr style=\"text-align: right;\">\n",
       "      <th></th>\n",
       "      <th>w1</th>\n",
       "      <th>w2</th>\n",
       "      <th>w3</th>\n",
       "      <th>w4</th>\n",
       "      <th>μ</th>\n",
       "      <th>σ</th>\n",
       "    </tr>\n",
       "  </thead>\n",
       "  <tbody>\n",
       "    <tr>\n",
       "      <th>0</th>\n",
       "      <td>-0.2515</td>\n",
       "      <td>0.2986</td>\n",
       "      <td>0.6489</td>\n",
       "      <td>0.3040</td>\n",
       "      <td>0.174007</td>\n",
       "      <td>0.189163</td>\n",
       "    </tr>\n",
       "    <tr>\n",
       "      <th>1</th>\n",
       "      <td>-0.1170</td>\n",
       "      <td>1.1189</td>\n",
       "      <td>-0.1439</td>\n",
       "      <td>0.1420</td>\n",
       "      <td>0.082798</td>\n",
       "      <td>0.141940</td>\n",
       "    </tr>\n",
       "    <tr>\n",
       "      <th>2</th>\n",
       "      <td>-0.4673</td>\n",
       "      <td>0.7144</td>\n",
       "      <td>0.6925</td>\n",
       "      <td>0.0604</td>\n",
       "      <td>0.156617</td>\n",
       "      <td>0.186322</td>\n",
       "    </tr>\n",
       "    <tr>\n",
       "      <th>3</th>\n",
       "      <td>0.1864</td>\n",
       "      <td>-0.4643</td>\n",
       "      <td>1.2199</td>\n",
       "      <td>0.0580</td>\n",
       "      <td>0.165812</td>\n",
       "      <td>0.190031</td>\n",
       "    </tr>\n",
       "    <tr>\n",
       "      <th>4</th>\n",
       "      <td>-0.3180</td>\n",
       "      <td>0.9061</td>\n",
       "      <td>0.6221</td>\n",
       "      <td>-0.2102</td>\n",
       "      <td>0.108342</td>\n",
       "      <td>0.157321</td>\n",
       "    </tr>\n",
       "  </tbody>\n",
       "</table>\n",
       "</div>"
      ],
      "text/plain": [
       "       w1      w2      w3      w4         μ         σ\n",
       "0 -0.2515  0.2986  0.6489  0.3040  0.174007  0.189163\n",
       "1 -0.1170  1.1189 -0.1439  0.1420  0.082798  0.141940\n",
       "2 -0.4673  0.7144  0.6925  0.0604  0.156617  0.186322\n",
       "3  0.1864 -0.4643  1.2199  0.0580  0.165812  0.190031\n",
       "4 -0.3180  0.9061  0.6221 -0.2102  0.108342  0.157321"
      ]
     },
     "execution_count": 44,
     "metadata": {},
     "output_type": "execute_result"
    }
   ],
   "source": [
    "df_random_weights.head()"
   ]
  },
  {
   "cell_type": "markdown",
   "id": "b6649a0b-cedc-490e-9610-0dccdf154dbc",
   "metadata": {},
   "source": [
    "Now, I would like to export the dataframe as Excel sheet to submit as part of the exame for full inspection."
   ]
  },
  {
   "cell_type": "code",
   "execution_count": 45,
   "id": "647c6149-9aa4-4601-b8fa-d8ac6b98dbce",
   "metadata": {},
   "outputs": [],
   "source": [
    "df_random_weights.to_excel('./Question_2.xlsx', index=False)"
   ]
  },
  {
   "cell_type": "markdown",
   "id": "cf79f7ad-18ed-4246-99de-35cc69612d76",
   "metadata": {},
   "source": [
    "## • Plot points with coordinates $\\mu_\\Pi$ on the vertical axis and $\\sigma_\\Pi$ on the horistonal axis. Identify the shape and explain this plot. ##"
   ]
  },
  {
   "cell_type": "markdown",
   "id": "8a92108f-0da1-40bc-adb4-7457f54a75eb",
   "metadata": {},
   "source": [
    "I use matplotlib to plot"
   ]
  },
  {
   "cell_type": "code",
   "execution_count": 46,
   "id": "50fcec1a-e638-435d-922e-9f373610a74b",
   "metadata": {},
   "outputs": [
    {
     "data": {
      "image/png": "[encoded data removed]",
      "text/plain": [
       "<Figure size 640x480 with 1 Axes>"
      ]
     },
     "metadata": {},
     "output_type": "display_data"
    }
   ],
   "source": [
    "plt.scatter(df_random_weights['σ'], df_random_weights['μ'], alpha=0.6)\n",
    "plt.xlabel('$\\sigma_\\Pi$')\n",
    "plt.ylabel('$\\mu_\\Pi$')\n",
    "plt.title('Question 2: Scatter Plot of $\\mu_\\Pi$ vs $\\sigma_\\Pi$')\n",
    "plt.grid(True)"
   ]
  },
  {
   "cell_type": "markdown",
   "id": "e2b1c77e-dd6e-49f0-bb94-19cc5d535667",
   "metadata": {},
   "source": [
    "### Plot Identification and Explanation: ###\n",
    "### The shape of the plots is the Efficient Frontier, and all the dots fall on/near or inside the Efficient Frontier. ###\n",
    "### This means, in the Modern Portfolio Theory, the Efficient Frontier represents the portfolios that offer the highest possible expected return for a defined level of risk or the lowest possible risk for a given level of expected return. ### \n",
    "### To optimize a portfolio, the investor needs to seek for one that is on the Efficient Frontier while satisfying other constraints to construct the portfolio. ###"
   ]
  },
  {
   "cell_type": "markdown",
   "id": "9e5226b0-8b6c-48ca-bfc0-c26e9da2ba39",
   "metadata": {},
   "source": [
    "Then I copy-paste this plot image onto the Excel file of 'Question_2.xlsx'."
   ]
  },
  {
   "cell_type": "markdown",
   "id": "21b5a21f-699b-4c6c-94d1-1ad38b6e6182",
   "metadata": {},
   "source": [
    "# Products and Market Risk #"
   ]
  },
  {
   "cell_type": "markdown",
   "id": "ca52ce91-856c-49cb-93ed-711d6d8259b0",
   "metadata": {},
   "source": [
    "# Question 3 #"
   ]
  },
  {
   "cell_type": "markdown",
   "id": "dc9deec0-fa4a-4129-a740-7f96d7e0ee10",
   "metadata": {},
   "source": [
    "*\\* In the code for this question, some of the variables will be re-written.*"
   ]
  },
  {
   "cell_type": "markdown",
   "id": "ed1eb1fc-5202-4078-a56d-c362ee9b0c46",
   "metadata": {},
   "source": [
    "First of all, we will define our vector of returns $μ$, though it may not be very useful here:\n",
    "$${\\mu} = \\begin{pmatrix}0\\\\ 0\\\\ 0\\end{pmatrix}$$"
   ]
  },
  {
   "cell_type": "code",
   "execution_count": 15,
   "id": "48582bf3-293c-4f5e-ae5a-8b3ea12ee365",
   "metadata": {},
   "outputs": [],
   "source": [
    "mu = np.array([[0], [0], [0]])"
   ]
  },
  {
   "cell_type": "markdown",
   "id": "956872b7-c237-43d2-bea5-825ddc8140e7",
   "metadata": {},
   "source": [
    "Then, we need to construct the standard deviation matrix $S$:\n",
    "$$ S = \\begin{pmatrix}\n",
    "0.3 & 0 & 0 \n",
    "\\\\ 0 & 0.2 & 0 \n",
    "\\\\ 0 & 0 & 0.15 \n",
    "\\end{pmatrix} $$"
   ]
  },
  {
   "cell_type": "code",
   "execution_count": 17,
   "id": "9e63abc5-034d-455e-9ab9-6d0eb8eb333d",
   "metadata": {},
   "outputs": [],
   "source": [
    "S = np.array([[0.3, 0, 0], [0, 0.2, 0], [0, 0, 0.15]])"
   ]
  },
  {
   "cell_type": "markdown",
   "id": "a6d57109-9db8-4906-bfaf-b3177f05fde1",
   "metadata": {},
   "source": [
    "With $S$, we can have the convariance matrix $\\Sigma$ with the following calculation, where $Corr$ is the correlation matrix as indicated: $$ \\Sigma = SCorrS = \\begin{pmatrix}\n",
    "0.3 & 0 & 0 \n",
    "\\\\ 0 & 0.2 & 0 \n",
    "\\\\ 0 & 0 & 0.15 \n",
    "\\end{pmatrix} \n",
    "\\begin{pmatrix}\n",
    "1 & 0.8 & 0.5 \n",
    "\\\\ 0.8 & 1 & 0.3 \n",
    "\\\\ 0.5 & 0.3 & 1 \n",
    "\\end{pmatrix}\n",
    "\\begin{pmatrix}\n",
    "0.3 & 0 & 0 \n",
    "\\\\ 0 & 0.2 & 0 \n",
    "\\\\ 0 & 0 & 0.15 \n",
    "\\end{pmatrix} = \n",
    "\\begin{pmatrix}\n",
    "0.09 & 0.048 & 0.0225\n",
    "\\\\ 0.048 & 0.04 & 0.009\n",
    "\\\\ 0.0225  & 0.009 & 0.0225 \n",
    "\\end{pmatrix}$$"
   ]
  },
  {
   "cell_type": "code",
   "execution_count": 20,
   "id": "013126e2-835c-4ae9-9b0f-d806e3f55f4f",
   "metadata": {},
   "outputs": [],
   "source": [
    "Corr = np.array([[1, 0.8, 0.5], [0.8, 1, 0.3], [0.5, 0.3, 1]])"
   ]
  },
  {
   "cell_type": "code",
   "execution_count": 21,
   "id": "ab95336d-e88d-4ed0-9f38-a3e7c387b5d4",
   "metadata": {},
   "outputs": [
    {
     "name": "stdout",
     "output_type": "stream",
     "text": [
      "[[0.09   0.048  0.0225]\n",
      " [0.048  0.04   0.009 ]\n",
      " [0.0225 0.009  0.0225]]\n"
     ]
    }
   ],
   "source": [
    "SIGMA = S@Corr@S\n",
    "print (SIGMA) "
   ]
  },
  {
   "cell_type": "markdown",
   "id": "6c3e2f4f-472b-4ad2-b9ab-8349840133cb",
   "metadata": {},
   "source": [
    "Meanwhile, we have our given weights of each asset and use them to make the vector of weights: $$w = \\begin{pmatrix}0.5\\\\ 0.2 \\\\ 0.3\\end{pmatrix}$$"
   ]
  },
  {
   "cell_type": "code",
   "execution_count": 22,
   "id": "30d98075-264e-41ec-b96d-036056001b0c",
   "metadata": {},
   "outputs": [],
   "source": [
    "w = np.array([[0.5], [0.2], [0.3]])"
   ]
  },
  {
   "cell_type": "markdown",
   "id": "b38cd377-8669-4884-84d4-433a71667a1c",
   "metadata": {},
   "source": [
    "And the confidence related parameters:\n",
    "$$ c = 0.99 $$\n",
    "Please note, according to the equation to calculate $Factor$ in the question: $ Factor = \\Phi^{-1}(1-c)$, it will become <b>negative</b>:\n",
    "$$ Factor = \\Phi^{-1}(1-c) = \\Phi^{-1}(0.01) \\approx -2.32635$$\n",
    "$$ \\phi(Factor) = \\phi(\\Phi^{-1}(0.01)) \\approx 0.0266521$$ "
   ]
  },
  {
   "cell_type": "code",
   "execution_count": 23,
   "id": "c99e335a-37f9-42bd-a7ac-38cab430660e",
   "metadata": {},
   "outputs": [
    {
     "name": "stdout",
     "output_type": "stream",
     "text": [
      "-2.3263478740408408\n"
     ]
    }
   ],
   "source": [
    "Factor = float(norm.ppf(0.01))\n",
    "print(Factor)"
   ]
  },
  {
   "cell_type": "code",
   "execution_count": 24,
   "id": "9ae71a93-f5ae-4869-9819-79bf2d5885cb",
   "metadata": {},
   "outputs": [
    {
     "name": "stdout",
     "output_type": "stream",
     "text": [
      "0.02665214220345808\n"
     ]
    }
   ],
   "source": [
    "phi_Factor = float(norm.pdf(norm.ppf(0.01)))\n",
    "print(phi_Factor)"
   ]
  },
  {
   "cell_type": "markdown",
   "id": "d54a4eb5-a9ce-4366-834a-318163103d4c",
   "metadata": {},
   "source": [
    "Next, we will do some general calculation for this question."
   ]
  },
  {
   "cell_type": "markdown",
   "id": "34cb5d5e-0cc6-44dd-94ee-9f2e9b21361b",
   "metadata": {},
   "source": [
    "$$ \\sqrt{w^T{\\Sigma}w} = \\sqrt{ \\begin{pmatrix}\n",
    "0.5 & 0.2 & 0.3\n",
    "\\end{pmatrix}\n",
    "\\begin{pmatrix}\n",
    "0.09 & 0.048 & 0.0225\n",
    "\\\\ 0.048 & 0.04 & 0.009\n",
    "\\\\ 0.0225  & 0.009 & 0.0225 \n",
    "\\end{pmatrix}\n",
    "\\begin{pmatrix}\n",
    "0.5\n",
    "\\\\ 0.2\n",
    "\\\\ 0.3\n",
    "\\end{pmatrix}} \\approx 0.208698 $$"
   ]
  },
  {
   "cell_type": "code",
   "execution_count": 26,
   "id": "96cb0e2a-d167-456c-859b-686582c49fcb",
   "metadata": {},
   "outputs": [
    {
     "data": {
      "text/plain": [
       "0.20869834690289238"
      ]
     },
     "execution_count": 26,
     "metadata": {},
     "output_type": "execute_result"
    }
   ],
   "source": [
    "float(np.sqrt(w.T@SIGMA@w)[0,0])"
   ]
  },
  {
   "cell_type": "markdown",
   "id": "f204dc7e-f263-44a6-8a61-6362950035ce",
   "metadata": {},
   "source": [
    "$$ \\Sigma w = \\begin{pmatrix}\n",
    "0.09 & 0.048 & 0.0225\n",
    "\\\\ 0.048 & 0.04 & 0.009\n",
    "\\\\ 0.0225  & 0.009 & 0.0225 \n",
    "\\end{pmatrix}\n",
    "\\begin{pmatrix}\n",
    "0.5\n",
    "\\\\ 0.2\n",
    "\\\\ 0.3\n",
    "\\end{pmatrix} =\n",
    "\\begin{pmatrix}\n",
    "0.06135\n",
    "\\\\ 0.0347\n",
    "\\\\ 0.0198\n",
    "\\end{pmatrix}$$"
   ]
  },
  {
   "cell_type": "code",
   "execution_count": 27,
   "id": "d8d3873a-9ef9-4887-90e4-fafbd375b97d",
   "metadata": {},
   "outputs": [
    {
     "data": {
      "text/plain": [
       "array([[0.06135],\n",
       "       [0.0347 ],\n",
       "       [0.0198 ]])"
      ]
     },
     "execution_count": 27,
     "metadata": {},
     "output_type": "execute_result"
    }
   ],
   "source": [
    "SIGMA@w"
   ]
  },
  {
   "cell_type": "markdown",
   "id": "aad18bfb-dedf-4d6a-a037-36f12fd996b6",
   "metadata": {},
   "source": [
    "Now, we apply these values to the formulas:"
   ]
  },
  {
   "cell_type": "markdown",
   "id": "c1d8c6a5-bf72-4765-8892-10a6d0f87c19",
   "metadata": {},
   "source": [
    "$$ \\frac{\\partial VaR(w)}{\\partial w_1} = \\mu_1 + Factor \\times \\frac{(\\Sigma w)_1}{\\sqrt{w^T{\\Sigma}w}} \\approx 0-2.32635 \\times \\frac{0.06135}{0.208698} \\approx -0.683865$$\n",
    "$$ \\frac{\\partial VaR(w)}{\\partial w_2} = \\mu_2 + Factor \\times \\frac{(\\Sigma w)_2}{\\sqrt{w^T{\\Sigma}w}} \\approx 0-2.32635 \\times \\frac{0.0347}{0.208698} \\approx -0.386799$$\n",
    "$$ \\frac{\\partial VaR(w)}{\\partial w_3} = \\mu_3 + Factor \\times \\frac{(\\Sigma w)_3}{\\sqrt{w^T{\\Sigma}w}} \\approx 0-2.32635 \\times \\frac{0.0198}{0.208698} \\approx -0.220709$$"
   ]
  },
  {
   "cell_type": "code",
   "execution_count": 28,
   "id": "38abd548-7d3b-4248-8077-a672fbb6a928",
   "metadata": {},
   "outputs": [
    {
     "name": "stdout",
     "output_type": "stream",
     "text": [
      "-0.6838647463691413\n",
      "-0.3867988051998242\n",
      "-0.2207094046961532\n"
     ]
    }
   ],
   "source": [
    "partial_VaR1 = Factor*float((SIGMA@w)[0,0])/float(np.sqrt(w.T@SIGMA@w)[0,0])\n",
    "partial_VaR2 = Factor*float((SIGMA@w)[1,0])/float(np.sqrt(w.T@SIGMA@w)[0,0])\n",
    "partial_VaR3 = Factor*float((SIGMA@w)[2,0])/float(np.sqrt(w.T@SIGMA@w)[0,0])\n",
    "print (partial_VaR1)\n",
    "print (partial_VaR2)\n",
    "print (partial_VaR3)"
   ]
  },
  {
   "cell_type": "markdown",
   "id": "2f2c206f-7ae8-404b-8141-72e3674a84fe",
   "metadata": {},
   "source": [
    "$$ \\frac{\\partial ES(w)}{\\partial w_1} = \\mu_1 - \\frac{\\phi(Factor)}{1-c} \\times \\frac{(\\Sigma w)_1}{\\sqrt{w^T{\\Sigma}w}} \\approx 0-\\frac{0.0266521}{0.01} \\times \\frac{0.06135}{0.208698} \\approx -0.783480$$\n",
    "$$ \\frac{\\partial ES(w)}{\\partial w_2} = \\mu_2 - \\frac{\\phi(Factor)}{1-c} \\times \\frac{(\\Sigma w)_2}{\\sqrt{w^T{\\Sigma}w}} \\approx 0-\\frac{0.0266521}{0.01} \\times \\frac{0.0347}{0.208698} \\approx -0.443142$$\n",
    "$$ \\frac{\\partial ES(w)}{\\partial w_3} = \\mu_3 - \\frac{\\phi(Factor)}{1-c} \\times \\frac{(\\Sigma w)_3}{\\sqrt{w^T{\\Sigma}w}} \\approx 0-\\frac{0.0266521}{0.01} \\times \\frac{0.0198}{0.208698} \\approx -0.252859$$"
   ]
  },
  {
   "cell_type": "code",
   "execution_count": 29,
   "id": "1a2d045f-b173-4436-b636-8cf6584c68eb",
   "metadata": {},
   "outputs": [
    {
     "name": "stdout",
     "output_type": "stream",
     "text": [
      "-0.7834795763585859\n",
      "-0.4431416674758425\n",
      "-0.2528589341792991\n"
     ]
    }
   ],
   "source": [
    "partial_ES1 = -phi_Factor/0.01*float((SIGMA@w)[0,0])/float(np.sqrt(w.T@SIGMA@w)[0,0])\n",
    "partial_ES2 = -phi_Factor/0.01*float((SIGMA@w)[1,0])/float(np.sqrt(w.T@SIGMA@w)[0,0])\n",
    "partial_ES3 = -phi_Factor/0.01*float((SIGMA@w)[2,0])/float(np.sqrt(w.T@SIGMA@w)[0,0])\n",
    "print (partial_ES1)\n",
    "print (partial_ES2)\n",
    "print (partial_ES3)"
   ]
  },
  {
   "cell_type": "markdown",
   "id": "74c14682-fc83-4523-8333-6082d8d3ea56",
   "metadata": {},
   "source": [
    "Create the summary table and export it as Excel."
   ]
  },
  {
   "cell_type": "code",
   "execution_count": 30,
   "id": "a6207424-16cc-4aab-914f-75b04aa8a851",
   "metadata": {},
   "outputs": [],
   "source": [
    "df_summary_table = pd.DataFrame({'Asset':[1,2,3], \n",
    "                                 'μ':[0, 0, 0], \n",
    "                                 'σ':[0.3, 0.2, 0.15],\n",
    "                                 'w':[0.5, 0.2, 0.3],\n",
    "                                 '∂VaR(w)/∂wi':[partial_VaR1, partial_VaR2, partial_VaR3],\n",
    "                                 '∂ES(w)/∂wi':[partial_ES1, partial_ES2, partial_ES3]\n",
    "                                })"
   ]
  },
  {
   "cell_type": "markdown",
   "id": "03874226-3692-4d9e-964b-38933c6e7cbc",
   "metadata": {},
   "source": [
    "### My answer to the question is the table below: ###"
   ]
  },
  {
   "cell_type": "code",
   "execution_count": 31,
   "id": "1e8bfa9a-2808-464d-bc4f-4a24eead452c",
   "metadata": {},
   "outputs": [
    {
     "data": {
      "text/html": [
       "<div>\n",
       "<style scoped>\n",
       "    .dataframe tbody tr th:only-of-type {\n",
       "        vertical-align: middle;\n",
       "    }\n",
       "\n",
       "    .dataframe tbody tr th {\n",
       "        vertical-align: top;\n",
       "    }\n",
       "\n",
       "    .dataframe thead th {\n",
       "        text-align: right;\n",
       "    }\n",
       "</style>\n",
       "<table border=\"1\" class=\"dataframe\">\n",
       "  <thead>\n",
       "    <tr style=\"text-align: right;\">\n",
       "      <th></th>\n",
       "      <th>Asset</th>\n",
       "      <th>μ</th>\n",
       "      <th>σ</th>\n",
       "      <th>w</th>\n",
       "      <th>∂VaR(w)/∂wi</th>\n",
       "      <th>∂ES(w)/∂wi</th>\n",
       "    </tr>\n",
       "  </thead>\n",
       "  <tbody>\n",
       "    <tr>\n",
       "      <th>0</th>\n",
       "      <td>1</td>\n",
       "      <td>0</td>\n",
       "      <td>0.30</td>\n",
       "      <td>0.5</td>\n",
       "      <td>-0.683865</td>\n",
       "      <td>-0.783480</td>\n",
       "    </tr>\n",
       "    <tr>\n",
       "      <th>1</th>\n",
       "      <td>2</td>\n",
       "      <td>0</td>\n",
       "      <td>0.20</td>\n",
       "      <td>0.2</td>\n",
       "      <td>-0.386799</td>\n",
       "      <td>-0.443142</td>\n",
       "    </tr>\n",
       "    <tr>\n",
       "      <th>2</th>\n",
       "      <td>3</td>\n",
       "      <td>0</td>\n",
       "      <td>0.15</td>\n",
       "      <td>0.3</td>\n",
       "      <td>-0.220709</td>\n",
       "      <td>-0.252859</td>\n",
       "    </tr>\n",
       "  </tbody>\n",
       "</table>\n",
       "</div>"
      ],
      "text/plain": [
       "   Asset  μ     σ    w  ∂VaR(w)/∂wi  ∂ES(w)/∂wi\n",
       "0      1  0  0.30  0.5    -0.683865   -0.783480\n",
       "1      2  0  0.20  0.2    -0.386799   -0.443142\n",
       "2      3  0  0.15  0.3    -0.220709   -0.252859"
      ]
     },
     "execution_count": 31,
     "metadata": {},
     "output_type": "execute_result"
    }
   ],
   "source": [
    "df_summary_table"
   ]
  },
  {
   "cell_type": "markdown",
   "id": "694b152a-f610-4d31-ad46-48c17a30e478",
   "metadata": {},
   "source": [
    "Now, I will export the table to an Excel sheet."
   ]
  },
  {
   "cell_type": "code",
   "execution_count": 76,
   "id": "17d86668-dbd0-413d-b6d4-6296b2ff40b3",
   "metadata": {},
   "outputs": [],
   "source": [
    "df_summary_table.to_excel('./Question_3.xlsx', index=False)"
   ]
  },
  {
   "cell_type": "markdown",
   "id": "bbcdd99c-afb4-4bf7-be56-a206398c304e",
   "metadata": {},
   "source": [
    "# Question 4 #"
   ]
  },
  {
   "cell_type": "markdown",
   "id": "62574a94-3144-40a8-96b2-9f9f6f983c2d",
   "metadata": {},
   "source": [
    "This questions is to test the Expected Shortfalls with differernt confidence levels. To start with, I will create a dataframe that include all the requested confidence levels: $ 99.95, 99.75, 99.5, 99.25, 99, 98.5, 98, 97.5$"
   ]
  },
  {
   "cell_type": "code",
   "execution_count": 32,
   "id": "19b3bbe3-5f21-40a5-bf20-a0a16e48ac2e",
   "metadata": {},
   "outputs": [],
   "source": [
    "df_ES_multiple_c = pd.DataFrame({'Confidence Level (c)':[0.9995, 0.9975, 0.995, 0.9925, 0.99, 0.985, 0.98, 0.975]})"
   ]
  },
  {
   "cell_type": "code",
   "execution_count": 33,
   "id": "5c1f915b-4db0-4b28-8051-cf271eda0c03",
   "metadata": {},
   "outputs": [
    {
     "data": {
      "text/html": [
       "<div>\n",
       "<style scoped>\n",
       "    .dataframe tbody tr th:only-of-type {\n",
       "        vertical-align: middle;\n",
       "    }\n",
       "\n",
       "    .dataframe tbody tr th {\n",
       "        vertical-align: top;\n",
       "    }\n",
       "\n",
       "    .dataframe thead th {\n",
       "        text-align: right;\n",
       "    }\n",
       "</style>\n",
       "<table border=\"1\" class=\"dataframe\">\n",
       "  <thead>\n",
       "    <tr style=\"text-align: right;\">\n",
       "      <th></th>\n",
       "      <th>Confidence Level (c)</th>\n",
       "    </tr>\n",
       "  </thead>\n",
       "  <tbody>\n",
       "    <tr>\n",
       "      <th>0</th>\n",
       "      <td>0.9995</td>\n",
       "    </tr>\n",
       "    <tr>\n",
       "      <th>1</th>\n",
       "      <td>0.9975</td>\n",
       "    </tr>\n",
       "    <tr>\n",
       "      <th>2</th>\n",
       "      <td>0.9950</td>\n",
       "    </tr>\n",
       "    <tr>\n",
       "      <th>3</th>\n",
       "      <td>0.9925</td>\n",
       "    </tr>\n",
       "    <tr>\n",
       "      <th>4</th>\n",
       "      <td>0.9900</td>\n",
       "    </tr>\n",
       "    <tr>\n",
       "      <th>5</th>\n",
       "      <td>0.9850</td>\n",
       "    </tr>\n",
       "    <tr>\n",
       "      <th>6</th>\n",
       "      <td>0.9800</td>\n",
       "    </tr>\n",
       "    <tr>\n",
       "      <th>7</th>\n",
       "      <td>0.9750</td>\n",
       "    </tr>\n",
       "  </tbody>\n",
       "</table>\n",
       "</div>"
      ],
      "text/plain": [
       "   Confidence Level (c)\n",
       "0                0.9995\n",
       "1                0.9975\n",
       "2                0.9950\n",
       "3                0.9925\n",
       "4                0.9900\n",
       "5                0.9850\n",
       "6                0.9800\n",
       "7                0.9750"
      ]
     },
     "execution_count": 33,
     "metadata": {},
     "output_type": "execute_result"
    }
   ],
   "source": [
    "df_ES_multiple_c"
   ]
  },
  {
   "cell_type": "markdown",
   "id": "e2f58e78-e280-454b-8747-37b4d6a6069f",
   "metadata": {},
   "source": [
    "As mentioned in the question, the most important step is to calculate $\\phi(\\Phi^{-1}(1-c))$. I will include this value as a separate column in the dataframe. And after calculation with the code below, we have following results:\n",
    "$$\\phi(\\Phi^{-1}(1-0.9995))\\approx 0.001777$$\n",
    "$$\\phi(\\Phi^{-1}(1-0.9975))\\approx 0.007761$$\n",
    "$$\\phi(\\Phi^{-1}(1-0.995))\\approx 0.014460$$\n",
    "$$\\phi(\\Phi^{-1}(1-0.9925))\\approx 0.020709$$\n",
    "$$\\phi(\\Phi^{-1}(1-0.99))\\approx 0.026652$$\n",
    "$$\\phi(\\Phi^{-1}(1-0.985))\\approx 0.037870$$\n",
    "$$\\phi(\\Phi^{-1}(1-0.98))\\approx 0.048418$$\n",
    "$$\\phi(\\Phi^{-1}(1-0.975))\\approx 0.058445$$"
   ]
  },
  {
   "cell_type": "code",
   "execution_count": 34,
   "id": "8c80fb11-8e0e-4ef0-b15f-cc399d595462",
   "metadata": {},
   "outputs": [],
   "source": [
    "df_ES_multiple_c['ϕ(Φ−1(1 − c))'] = df_ES_multiple_c.apply(lambda row: float(norm.pdf(norm.ppf(1-row['Confidence Level (c)']))), axis=1)"
   ]
  },
  {
   "cell_type": "code",
   "execution_count": 35,
   "id": "904a111d-4748-4049-b9df-62c8a7aa5160",
   "metadata": {},
   "outputs": [
    {
     "data": {
      "text/html": [
       "<div>\n",
       "<style scoped>\n",
       "    .dataframe tbody tr th:only-of-type {\n",
       "        vertical-align: middle;\n",
       "    }\n",
       "\n",
       "    .dataframe tbody tr th {\n",
       "        vertical-align: top;\n",
       "    }\n",
       "\n",
       "    .dataframe thead th {\n",
       "        text-align: right;\n",
       "    }\n",
       "</style>\n",
       "<table border=\"1\" class=\"dataframe\">\n",
       "  <thead>\n",
       "    <tr style=\"text-align: right;\">\n",
       "      <th></th>\n",
       "      <th>Confidence Level (c)</th>\n",
       "      <th>ϕ(Φ−1(1 − c))</th>\n",
       "    </tr>\n",
       "  </thead>\n",
       "  <tbody>\n",
       "    <tr>\n",
       "      <th>0</th>\n",
       "      <td>0.9995</td>\n",
       "      <td>0.001777</td>\n",
       "    </tr>\n",
       "    <tr>\n",
       "      <th>1</th>\n",
       "      <td>0.9975</td>\n",
       "      <td>0.007761</td>\n",
       "    </tr>\n",
       "    <tr>\n",
       "      <th>2</th>\n",
       "      <td>0.9950</td>\n",
       "      <td>0.014460</td>\n",
       "    </tr>\n",
       "    <tr>\n",
       "      <th>3</th>\n",
       "      <td>0.9925</td>\n",
       "      <td>0.020709</td>\n",
       "    </tr>\n",
       "    <tr>\n",
       "      <th>4</th>\n",
       "      <td>0.9900</td>\n",
       "      <td>0.026652</td>\n",
       "    </tr>\n",
       "    <tr>\n",
       "      <th>5</th>\n",
       "      <td>0.9850</td>\n",
       "      <td>0.037870</td>\n",
       "    </tr>\n",
       "    <tr>\n",
       "      <th>6</th>\n",
       "      <td>0.9800</td>\n",
       "      <td>0.048418</td>\n",
       "    </tr>\n",
       "    <tr>\n",
       "      <th>7</th>\n",
       "      <td>0.9750</td>\n",
       "      <td>0.058445</td>\n",
       "    </tr>\n",
       "  </tbody>\n",
       "</table>\n",
       "</div>"
      ],
      "text/plain": [
       "   Confidence Level (c)  ϕ(Φ−1(1 − c))\n",
       "0                0.9995       0.001777\n",
       "1                0.9975       0.007761\n",
       "2                0.9950       0.014460\n",
       "3                0.9925       0.020709\n",
       "4                0.9900       0.026652\n",
       "5                0.9850       0.037870\n",
       "6                0.9800       0.048418\n",
       "7                0.9750       0.058445"
      ]
     },
     "execution_count": 35,
     "metadata": {},
     "output_type": "execute_result"
    }
   ],
   "source": [
    "df_ES_multiple_c"
   ]
  },
  {
   "cell_type": "markdown",
   "id": "305e51a5-bc03-4eec-bcd1-23c1cbc9a806",
   "metadata": {},
   "source": [
    "Then, I will apply the formula of calculation Expected Shortfall $ ES_c(X) = \\mu - \\sigma \\frac{\\phi(\\Phi^{-1}(1-c))}{1-c}$ to have the following results, and incorporate them into my dataframe:\n",
    "$$ ES_{0.9975}(X) = \\mu - \\sigma \\frac{\\phi(\\Phi^{-1}(1-0.9975))}{1-0.9975}\\approx \\mu - 3.554381\\sigma $$\n",
    "$$ ES_{0.995}(X) = \\mu - \\sigma \\frac{\\phi(\\Phi^{-1}(1-0.995))}{1-0.995}\\approx \\mu - 3.104357\\sigma$$\n",
    "$$ ES_{0.9925}(X) = \\mu - \\sigma \\frac{\\phi(\\Phi^{-1}(1-0.9925))}{1-0.9925}\\approx \\mu - 2.891949\\sigma$$\n",
    "$$ ES_{0.99}(X) = \\mu - \\sigma \\frac{\\phi(\\Phi^{-1}(1-0.99))}{1-0.99}\\approx \\mu - 2.761240\\sigma$$\n",
    "$$ ES_{0.985}(X) = \\mu - \\sigma \\frac{\\phi(\\Phi^{-1}(1-0.985))}{1-0.985}\\approx \\mu - 2.665214\\sigma$$\n",
    "$$ ES_{0.98}(X) = \\mu - \\sigma \\frac{\\phi(\\Phi^{-1}(1-0.98))}{1-0.98}\\approx \\mu - 2.524695\\sigma$$\n",
    "$$ ES_{0.975}(X) = \\mu - \\sigma \\frac{\\phi(\\Phi^{-1}(1-0.975))}{1-0.975}\\approx \\mu - 2.420907\\sigma$$\n",
    "$$ ES_{0.975}(X) = \\mu - \\sigma \\frac{\\phi(\\Phi^{-1}(1-0.975))}{1-0.975}\\approx \\mu - 2.337803\\sigma$$"
   ]
  },
  {
   "cell_type": "code",
   "execution_count": 36,
   "id": "dc5e2dc8-9159-4741-aca3-61da7f4ee127",
   "metadata": {},
   "outputs": [],
   "source": [
    "df_ES_multiple_c['ES'] = df_ES_multiple_c.apply(lambda row: 'μ − '+str(round(row['ϕ(Φ−1(1 − c))']/(1-row['Confidence Level (c)']), 6)) +'σ', axis=1)"
   ]
  },
  {
   "cell_type": "markdown",
   "id": "017b7aac-531a-4e0c-9afb-fe54df18235b",
   "metadata": {},
   "source": [
    "### My answer to the question is the table below: ###"
   ]
  },
  {
   "cell_type": "code",
   "execution_count": 37,
   "id": "b967f8a8-3192-4765-b4c3-dbc4b244cb4a",
   "metadata": {},
   "outputs": [
    {
     "data": {
      "text/html": [
       "<div>\n",
       "<style scoped>\n",
       "    .dataframe tbody tr th:only-of-type {\n",
       "        vertical-align: middle;\n",
       "    }\n",
       "\n",
       "    .dataframe tbody tr th {\n",
       "        vertical-align: top;\n",
       "    }\n",
       "\n",
       "    .dataframe thead th {\n",
       "        text-align: right;\n",
       "    }\n",
       "</style>\n",
       "<table border=\"1\" class=\"dataframe\">\n",
       "  <thead>\n",
       "    <tr style=\"text-align: right;\">\n",
       "      <th></th>\n",
       "      <th>Confidence Level (c)</th>\n",
       "      <th>ϕ(Φ−1(1 − c))</th>\n",
       "      <th>ES</th>\n",
       "    </tr>\n",
       "  </thead>\n",
       "  <tbody>\n",
       "    <tr>\n",
       "      <th>0</th>\n",
       "      <td>0.9995</td>\n",
       "      <td>0.001777</td>\n",
       "      <td>μ − 3.554381σ</td>\n",
       "    </tr>\n",
       "    <tr>\n",
       "      <th>1</th>\n",
       "      <td>0.9975</td>\n",
       "      <td>0.007761</td>\n",
       "      <td>μ − 3.104357σ</td>\n",
       "    </tr>\n",
       "    <tr>\n",
       "      <th>2</th>\n",
       "      <td>0.9950</td>\n",
       "      <td>0.014460</td>\n",
       "      <td>μ − 2.891949σ</td>\n",
       "    </tr>\n",
       "    <tr>\n",
       "      <th>3</th>\n",
       "      <td>0.9925</td>\n",
       "      <td>0.020709</td>\n",
       "      <td>μ − 2.76124σ</td>\n",
       "    </tr>\n",
       "    <tr>\n",
       "      <th>4</th>\n",
       "      <td>0.9900</td>\n",
       "      <td>0.026652</td>\n",
       "      <td>μ − 2.665214σ</td>\n",
       "    </tr>\n",
       "    <tr>\n",
       "      <th>5</th>\n",
       "      <td>0.9850</td>\n",
       "      <td>0.037870</td>\n",
       "      <td>μ − 2.524695σ</td>\n",
       "    </tr>\n",
       "    <tr>\n",
       "      <th>6</th>\n",
       "      <td>0.9800</td>\n",
       "      <td>0.048418</td>\n",
       "      <td>μ − 2.420907σ</td>\n",
       "    </tr>\n",
       "    <tr>\n",
       "      <th>7</th>\n",
       "      <td>0.9750</td>\n",
       "      <td>0.058445</td>\n",
       "      <td>μ − 2.337803σ</td>\n",
       "    </tr>\n",
       "  </tbody>\n",
       "</table>\n",
       "</div>"
      ],
      "text/plain": [
       "   Confidence Level (c)  ϕ(Φ−1(1 − c))             ES\n",
       "0                0.9995       0.001777  μ − 3.554381σ\n",
       "1                0.9975       0.007761  μ − 3.104357σ\n",
       "2                0.9950       0.014460  μ − 2.891949σ\n",
       "3                0.9925       0.020709   μ − 2.76124σ\n",
       "4                0.9900       0.026652  μ − 2.665214σ\n",
       "5                0.9850       0.037870  μ − 2.524695σ\n",
       "6                0.9800       0.048418  μ − 2.420907σ\n",
       "7                0.9750       0.058445  μ − 2.337803σ"
      ]
     },
     "execution_count": 37,
     "metadata": {},
     "output_type": "execute_result"
    }
   ],
   "source": [
    "df_ES_multiple_c"
   ]
  },
  {
   "cell_type": "markdown",
   "id": "f64ab416-a4b4-4ebb-9585-7e3de42641b8",
   "metadata": {},
   "source": [
    "Now, I would like to export it to Excel."
   ]
  },
  {
   "cell_type": "code",
   "execution_count": 122,
   "id": "b223a71f-01a7-4e04-9c50-cf90b7fc1157",
   "metadata": {},
   "outputs": [],
   "source": [
    "df_ES_multiple_c.to_excel('./Question_4.xlsx', index=False)"
   ]
  },
  {
   "cell_type": "markdown",
   "id": "691f561d-c194-4c41-9dd1-4c68194a2f30",
   "metadata": {},
   "source": [
    "# Question 5 #"
   ]
  },
  {
   "cell_type": "markdown",
   "id": "7074298c-b085-4bbe-a7d7-a980b3b2dfdb",
   "metadata": {},
   "source": [
    "The derivation process is as follows. <br>\n",
    "Since: \n",
    "$$ \\sigma^2_t =  \\sum_{i=1}^{n\\rightarrow\\infty} \\alpha_iu^2_{n-i} = \\alpha_1{u^2_{n-1}} + \\alpha_2{u^2_{n-2}} + \\alpha_3{u^2_{n-3}} + \\alpha_4{u^2_{n-4}} + ...$$\n",
    "and\n",
    "$$ \\alpha_{i+1} = \\lambda \\alpha_i $$\n",
    "So, we have:\n",
    "$$ \\sigma^2_t = \\alpha_1{u^2_{n-1}} + \\lambda \\alpha_1{u^2_{n-2}} + \\lambda^2 \\alpha_1{u^2_{n-3}} + \\lambda^3 \\alpha_1{u^2_{n-4}} + ...$$"
   ]
  },
  {
   "cell_type": "markdown",
   "id": "45e0cfe9-3719-4afa-aab3-790597a1133b",
   "metadata": {},
   "source": [
    "Consequently, we can also deduct the expression of $\\sigma^2_{t-1}$:\n",
    "$$ \\sigma^2_{t-1} = \\alpha_1{u^2_{n-2}} + \\lambda \\alpha_1{u^2_{n-3}} + \\lambda^2 \\alpha_1{u^2_{n-4}} + \\lambda^3 \\alpha_1{u^2_{n-5}} + ...$$\n",
    "By multiplying $\\lambda$ to both sides, we have:\n",
    "$$ \\lambda \\sigma^2_{t-1} = \\lambda \\alpha_1{u^2_{n-2}} + \\lambda^2 \\alpha_1{u^2_{n-3}} + \\lambda^3 \\alpha_1{u^2_{n-4}} + \\lambda^4 \\alpha_1{u^2_{n-5}} + ...$$\n",
    "This is exactly the expression of $\\sigma^2_t$ excluding the first item, therefore:\n",
    "$$ \\sigma^2_t = \\alpha_1{u^2_{n-1}} + \\lambda \\sigma^2_{t-1}$$"
   ]
  },
  {
   "cell_type": "markdown",
   "id": "2714c497-c19c-4b46-a2ca-7e45a196febb",
   "metadata": {},
   "source": [
    "Now, consider the relationship between $\\alpha$ and $\\lambda$.<br>\n",
    "We know that:\n",
    "$$\\alpha_1+ \\alpha_2+ \\alpha_3+ \\alpha_4+ .... = 1$$\n",
    "So: \n",
    "$$\\alpha_1(1+ \\lambda+ \\lambda^2+ \\lambda^3+ .... )= 1$$\n",
    "Since $0<\\lambda<1$, according to the sum of an infinite geometric series, we have:\n",
    "$$ 1+ \\lambda+ \\lambda^2+ \\lambda^3+ .... = \\frac{1}{1-\\lambda} $$\n",
    "then:\n",
    "$$ \\frac{\\alpha}{1-\\lambda} = 1 $$\n",
    "Consequently:\n",
    "$$ \\alpha = 1-\\lambda $$"
   ]
  },
  {
   "cell_type": "markdown",
   "id": "85b110c3-7d78-4a6a-8a8a-227107c30085",
   "metadata": {},
   "source": [
    "Finally, by substituting $\\alpha$ in the expression of $\\sigma^2_t$, we have:\n",
    "$$ \\sigma^2_t = \\lambda \\sigma^2_{t-1} + (1-\\lambda){u^2_{n-1}}$$"
   ]
  },
  {
   "cell_type": "markdown",
   "id": "075e7856-2e79-476e-bd24-84d596ee0d85",
   "metadata": {},
   "source": [
    "# VaR Backtesting #"
   ]
  },
  {
   "cell_type": "markdown",
   "id": "749e1034-a8be-4b6f-a96c-2a0a3f3b2a2b",
   "metadata": {},
   "source": [
    "# Question 6 #"
   ]
  },
  {
   "cell_type": "markdown",
   "id": "c3acbb28-d780-4e53-acd9-25b57e40a658",
   "metadata": {},
   "source": [
    "## Preparation ##"
   ]
  },
  {
   "cell_type": "markdown",
   "id": "a631099a-6843-413a-9b99-c3d12898a0de",
   "metadata": {},
   "source": [
    "First, import the data as a dataframe 'df_SP500'."
   ]
  },
  {
   "cell_type": "code",
   "execution_count": 38,
   "id": "786a3d54-8721-476a-ab95-a86ef1dff2d3",
   "metadata": {},
   "outputs": [],
   "source": [
    "df_SP500 = pd.read_csv('./CQF E1 2025 - Data_SP500.csv', parse_dates=['Date'], dayfirst=True)"
   ]
  },
  {
   "cell_type": "markdown",
   "id": "182fd27f-b8bb-42e1-b932-6b827f69fb90",
   "metadata": {},
   "source": [
    "Check the data."
   ]
  },
  {
   "cell_type": "code",
   "execution_count": 39,
   "id": "52ec2886-efc0-4114-abc2-4a68edf5e08c",
   "metadata": {},
   "outputs": [
    {
     "name": "stdout",
     "output_type": "stream",
     "text": [
      "<class 'pandas.core.frame.DataFrame'>\n",
      "RangeIndex: 1250 entries, 0 to 1249\n",
      "Data columns (total 2 columns):\n",
      " #   Column  Non-Null Count  Dtype         \n",
      "---  ------  --------------  -----         \n",
      " 0   Date    1250 non-null   datetime64[ns]\n",
      " 1   SP500   1250 non-null   float64       \n",
      "dtypes: datetime64[ns](1), float64(1)\n",
      "memory usage: 19.7 KB\n"
     ]
    }
   ],
   "source": [
    "df_SP500.info()"
   ]
  },
  {
   "cell_type": "code",
   "execution_count": 40,
   "id": "d731091f-1acf-4097-81a3-7dcfe13816b9",
   "metadata": {},
   "outputs": [
    {
     "data": {
      "text/html": [
       "<div>\n",
       "<style scoped>\n",
       "    .dataframe tbody tr th:only-of-type {\n",
       "        vertical-align: middle;\n",
       "    }\n",
       "\n",
       "    .dataframe tbody tr th {\n",
       "        vertical-align: top;\n",
       "    }\n",
       "\n",
       "    .dataframe thead th {\n",
       "        text-align: right;\n",
       "    }\n",
       "</style>\n",
       "<table border=\"1\" class=\"dataframe\">\n",
       "  <thead>\n",
       "    <tr style=\"text-align: right;\">\n",
       "      <th></th>\n",
       "      <th>Date</th>\n",
       "      <th>SP500</th>\n",
       "    </tr>\n",
       "  </thead>\n",
       "  <tbody>\n",
       "    <tr>\n",
       "      <th>0</th>\n",
       "      <td>2013-01-22</td>\n",
       "      <td>1492.560059</td>\n",
       "    </tr>\n",
       "    <tr>\n",
       "      <th>1</th>\n",
       "      <td>2013-01-23</td>\n",
       "      <td>1494.810059</td>\n",
       "    </tr>\n",
       "    <tr>\n",
       "      <th>2</th>\n",
       "      <td>2013-01-24</td>\n",
       "      <td>1494.819946</td>\n",
       "    </tr>\n",
       "    <tr>\n",
       "      <th>3</th>\n",
       "      <td>2013-01-25</td>\n",
       "      <td>1502.959961</td>\n",
       "    </tr>\n",
       "    <tr>\n",
       "      <th>4</th>\n",
       "      <td>2013-01-28</td>\n",
       "      <td>1500.180054</td>\n",
       "    </tr>\n",
       "  </tbody>\n",
       "</table>\n",
       "</div>"
      ],
      "text/plain": [
       "        Date        SP500\n",
       "0 2013-01-22  1492.560059\n",
       "1 2013-01-23  1494.810059\n",
       "2 2013-01-24  1494.819946\n",
       "3 2013-01-25  1502.959961\n",
       "4 2013-01-28  1500.180054"
      ]
     },
     "execution_count": 40,
     "metadata": {},
     "output_type": "execute_result"
    }
   ],
   "source": [
    "df_SP500.head()"
   ]
  },
  {
   "cell_type": "markdown",
   "id": "2caadcdf-a2f2-444b-a9ff-fd328217777d",
   "metadata": {},
   "source": [
    "Create a column of 'Return' to host the values of daily returns, calculated from the function: \n",
    "$$R_1 = ln(S_{(t+1)}/St) $$"
   ]
  },
  {
   "cell_type": "code",
   "execution_count": 41,
   "id": "359966a6-8a29-4daf-8c2d-7bec2d007e65",
   "metadata": {},
   "outputs": [],
   "source": [
    "df_SP500['Return'] = np.nan\n",
    "for i in df_SP500.index:\n",
    "    if i>0:\n",
    "        df_SP500.at[i,'Return'] = np.log(df_SP500.at[i,'SP500'] / df_SP500.at[i-1,'SP500'])"
   ]
  },
  {
   "cell_type": "markdown",
   "id": "3b839b61-4f2e-417c-8ead-51e93652d5a7",
   "metadata": {},
   "source": [
    "Create a column of '21 Day Rolling σ' to host the values of standard deviation from 21 daily returns."
   ]
  },
  {
   "cell_type": "code",
   "execution_count": 42,
   "id": "6fdff885-7492-4065-91d0-00252bdb1551",
   "metadata": {},
   "outputs": [],
   "source": [
    "df_SP500['21 Day Rolling σ'] = df_SP500['Return'].rolling(window=21).std()"
   ]
  },
  {
   "cell_type": "markdown",
   "id": "a9e22b10-0b78-46a3-83d0-bd0aa2d75473",
   "metadata": {},
   "source": [
    "Create a column of '10 Day VaR' to host the values of Value at Risk for 10 days from the function:\n",
    "$$ VaR_{10D,t} = Factor \\times \\sigma_t \\times \\sqrt{10} $$\n",
    "Meanwhile, since we know the confidence level $(c)$ is $0.99$, we can calculate the $Factor$ as $-2.32635 $.\n",
    "$$ Factor = \\Phi^{-1}(1-c) = \\Phi^{-1}(0.01) \\approx -2.32635$$"
   ]
  },
  {
   "cell_type": "code",
   "execution_count": 43,
   "id": "b36239ff-f52a-4314-a993-4482c7f85b47",
   "metadata": {},
   "outputs": [
    {
     "name": "stdout",
     "output_type": "stream",
     "text": [
      "-2.3263478740408408\n"
     ]
    }
   ],
   "source": [
    "Factor = float(norm.ppf(0.01))\n",
    "print(Factor)"
   ]
  },
  {
   "cell_type": "code",
   "execution_count": 44,
   "id": "edc4c48a-c4f8-46cd-9c8c-38b7baf52229",
   "metadata": {},
   "outputs": [],
   "source": [
    "df_SP500['10 Day VaR'] = Factor*df_SP500['21 Day Rolling σ']*np.sqrt(10)"
   ]
  },
  {
   "cell_type": "markdown",
   "id": "e3c8f852-cc33-4d74-bdfd-bacea23fc3ba",
   "metadata": {},
   "source": [
    "Create a column of '10 Day Return' to host the values of 10 day returns, calculated from the function: \n",
    "$$ R_{10} = ln(S_{(t+10)}/St) $$"
   ]
  },
  {
   "cell_type": "code",
   "execution_count": 45,
   "id": "04e675f9-9c5b-4f96-9467-c24ed666dac2",
   "metadata": {},
   "outputs": [],
   "source": [
    "df_SP500['10 Day Return'] = np.nan\n",
    "for i in df_SP500.index:\n",
    "    if i>9:\n",
    "        df_SP500.at[i,'10 Day Return'] = np.log(df_SP500.at[i,'SP500'] / df_SP500.at[i-10,'SP500'])"
   ]
  },
  {
   "cell_type": "markdown",
   "id": "d3b8c08f-1339-4dcf-8568-6300181e634a",
   "metadata": {},
   "source": [
    "Check the data now."
   ]
  },
  {
   "cell_type": "code",
   "execution_count": 51,
   "id": "fb16e033-5625-40ca-989b-22f8fa44c5f5",
   "metadata": {},
   "outputs": [
    {
     "data": {
      "text/html": [
       "<div>\n",
       "<style scoped>\n",
       "    .dataframe tbody tr th:only-of-type {\n",
       "        vertical-align: middle;\n",
       "    }\n",
       "\n",
       "    .dataframe tbody tr th {\n",
       "        vertical-align: top;\n",
       "    }\n",
       "\n",
       "    .dataframe thead th {\n",
       "        text-align: right;\n",
       "    }\n",
       "</style>\n",
       "<table border=\"1\" class=\"dataframe\">\n",
       "  <thead>\n",
       "    <tr style=\"text-align: right;\">\n",
       "      <th></th>\n",
       "      <th>Date</th>\n",
       "      <th>SP500</th>\n",
       "      <th>Return</th>\n",
       "      <th>21 Day Rolling σ</th>\n",
       "      <th>10 Day VaR</th>\n",
       "      <th>10 Day Return</th>\n",
       "    </tr>\n",
       "  </thead>\n",
       "  <tbody>\n",
       "    <tr>\n",
       "      <th>0</th>\n",
       "      <td>2013-01-22</td>\n",
       "      <td>1492.560059</td>\n",
       "      <td>NaN</td>\n",
       "      <td>NaN</td>\n",
       "      <td>NaN</td>\n",
       "      <td>NaN</td>\n",
       "    </tr>\n",
       "    <tr>\n",
       "      <th>1</th>\n",
       "      <td>2013-01-23</td>\n",
       "      <td>1494.810059</td>\n",
       "      <td>0.001506</td>\n",
       "      <td>NaN</td>\n",
       "      <td>NaN</td>\n",
       "      <td>NaN</td>\n",
       "    </tr>\n",
       "    <tr>\n",
       "      <th>2</th>\n",
       "      <td>2013-01-24</td>\n",
       "      <td>1494.819946</td>\n",
       "      <td>0.000007</td>\n",
       "      <td>NaN</td>\n",
       "      <td>NaN</td>\n",
       "      <td>NaN</td>\n",
       "    </tr>\n",
       "    <tr>\n",
       "      <th>3</th>\n",
       "      <td>2013-01-25</td>\n",
       "      <td>1502.959961</td>\n",
       "      <td>0.005431</td>\n",
       "      <td>NaN</td>\n",
       "      <td>NaN</td>\n",
       "      <td>NaN</td>\n",
       "    </tr>\n",
       "    <tr>\n",
       "      <th>4</th>\n",
       "      <td>2013-01-28</td>\n",
       "      <td>1500.180054</td>\n",
       "      <td>-0.001851</td>\n",
       "      <td>NaN</td>\n",
       "      <td>NaN</td>\n",
       "      <td>NaN</td>\n",
       "    </tr>\n",
       "    <tr>\n",
       "      <th>5</th>\n",
       "      <td>2013-01-29</td>\n",
       "      <td>1507.839966</td>\n",
       "      <td>0.005093</td>\n",
       "      <td>NaN</td>\n",
       "      <td>NaN</td>\n",
       "      <td>NaN</td>\n",
       "    </tr>\n",
       "    <tr>\n",
       "      <th>6</th>\n",
       "      <td>2013-01-30</td>\n",
       "      <td>1501.959961</td>\n",
       "      <td>-0.003907</td>\n",
       "      <td>NaN</td>\n",
       "      <td>NaN</td>\n",
       "      <td>NaN</td>\n",
       "    </tr>\n",
       "    <tr>\n",
       "      <th>7</th>\n",
       "      <td>2013-01-31</td>\n",
       "      <td>1498.109985</td>\n",
       "      <td>-0.002567</td>\n",
       "      <td>NaN</td>\n",
       "      <td>NaN</td>\n",
       "      <td>NaN</td>\n",
       "    </tr>\n",
       "    <tr>\n",
       "      <th>8</th>\n",
       "      <td>2013-02-01</td>\n",
       "      <td>1513.170044</td>\n",
       "      <td>0.010003</td>\n",
       "      <td>NaN</td>\n",
       "      <td>NaN</td>\n",
       "      <td>NaN</td>\n",
       "    </tr>\n",
       "    <tr>\n",
       "      <th>9</th>\n",
       "      <td>2013-02-04</td>\n",
       "      <td>1495.709961</td>\n",
       "      <td>-0.011606</td>\n",
       "      <td>NaN</td>\n",
       "      <td>NaN</td>\n",
       "      <td>NaN</td>\n",
       "    </tr>\n",
       "    <tr>\n",
       "      <th>10</th>\n",
       "      <td>2013-02-05</td>\n",
       "      <td>1511.290039</td>\n",
       "      <td>0.010363</td>\n",
       "      <td>NaN</td>\n",
       "      <td>NaN</td>\n",
       "      <td>0.012471</td>\n",
       "    </tr>\n",
       "    <tr>\n",
       "      <th>11</th>\n",
       "      <td>2013-02-06</td>\n",
       "      <td>1512.119995</td>\n",
       "      <td>0.000549</td>\n",
       "      <td>NaN</td>\n",
       "      <td>NaN</td>\n",
       "      <td>0.011513</td>\n",
       "    </tr>\n",
       "    <tr>\n",
       "      <th>12</th>\n",
       "      <td>2013-02-07</td>\n",
       "      <td>1509.390015</td>\n",
       "      <td>-0.001807</td>\n",
       "      <td>NaN</td>\n",
       "      <td>NaN</td>\n",
       "      <td>0.009700</td>\n",
       "    </tr>\n",
       "    <tr>\n",
       "      <th>13</th>\n",
       "      <td>2013-02-08</td>\n",
       "      <td>1517.930054</td>\n",
       "      <td>0.005642</td>\n",
       "      <td>NaN</td>\n",
       "      <td>NaN</td>\n",
       "      <td>0.009911</td>\n",
       "    </tr>\n",
       "    <tr>\n",
       "      <th>14</th>\n",
       "      <td>2013-02-11</td>\n",
       "      <td>1517.010010</td>\n",
       "      <td>-0.000606</td>\n",
       "      <td>NaN</td>\n",
       "      <td>NaN</td>\n",
       "      <td>0.011156</td>\n",
       "    </tr>\n",
       "    <tr>\n",
       "      <th>15</th>\n",
       "      <td>2013-02-12</td>\n",
       "      <td>1519.430054</td>\n",
       "      <td>0.001594</td>\n",
       "      <td>NaN</td>\n",
       "      <td>NaN</td>\n",
       "      <td>0.007657</td>\n",
       "    </tr>\n",
       "    <tr>\n",
       "      <th>16</th>\n",
       "      <td>2013-02-13</td>\n",
       "      <td>1520.329956</td>\n",
       "      <td>0.000592</td>\n",
       "      <td>NaN</td>\n",
       "      <td>NaN</td>\n",
       "      <td>0.012156</td>\n",
       "    </tr>\n",
       "    <tr>\n",
       "      <th>17</th>\n",
       "      <td>2013-02-14</td>\n",
       "      <td>1521.380005</td>\n",
       "      <td>0.000690</td>\n",
       "      <td>NaN</td>\n",
       "      <td>NaN</td>\n",
       "      <td>0.015414</td>\n",
       "    </tr>\n",
       "    <tr>\n",
       "      <th>18</th>\n",
       "      <td>2013-02-15</td>\n",
       "      <td>1519.790039</td>\n",
       "      <td>-0.001046</td>\n",
       "      <td>NaN</td>\n",
       "      <td>NaN</td>\n",
       "      <td>0.004365</td>\n",
       "    </tr>\n",
       "    <tr>\n",
       "      <th>19</th>\n",
       "      <td>2013-02-19</td>\n",
       "      <td>1530.939941</td>\n",
       "      <td>0.007310</td>\n",
       "      <td>NaN</td>\n",
       "      <td>NaN</td>\n",
       "      <td>0.023281</td>\n",
       "    </tr>\n",
       "    <tr>\n",
       "      <th>20</th>\n",
       "      <td>2013-02-20</td>\n",
       "      <td>1511.949951</td>\n",
       "      <td>-0.012482</td>\n",
       "      <td>NaN</td>\n",
       "      <td>NaN</td>\n",
       "      <td>0.000437</td>\n",
       "    </tr>\n",
       "    <tr>\n",
       "      <th>21</th>\n",
       "      <td>2013-02-21</td>\n",
       "      <td>1502.420044</td>\n",
       "      <td>-0.006323</td>\n",
       "      <td>0.005969</td>\n",
       "      <td>-0.043908</td>\n",
       "      <td>-0.006435</td>\n",
       "    </tr>\n",
       "    <tr>\n",
       "      <th>22</th>\n",
       "      <td>2013-02-22</td>\n",
       "      <td>1515.599976</td>\n",
       "      <td>0.008734</td>\n",
       "      <td>0.006243</td>\n",
       "      <td>-0.045926</td>\n",
       "      <td>0.004106</td>\n",
       "    </tr>\n",
       "    <tr>\n",
       "      <th>23</th>\n",
       "      <td>2013-02-25</td>\n",
       "      <td>1487.849976</td>\n",
       "      <td>-0.018479</td>\n",
       "      <td>0.007513</td>\n",
       "      <td>-0.055272</td>\n",
       "      <td>-0.020015</td>\n",
       "    </tr>\n",
       "    <tr>\n",
       "      <th>24</th>\n",
       "      <td>2013-02-26</td>\n",
       "      <td>1496.939941</td>\n",
       "      <td>0.006091</td>\n",
       "      <td>0.007540</td>\n",
       "      <td>-0.055465</td>\n",
       "      <td>-0.013318</td>\n",
       "    </tr>\n",
       "  </tbody>\n",
       "</table>\n",
       "</div>"
      ],
      "text/plain": [
       "         Date        SP500    Return  21 Day Rolling σ  10 Day VaR  \\\n",
       "0  2013-01-22  1492.560059       NaN               NaN         NaN   \n",
       "1  2013-01-23  1494.810059  0.001506               NaN         NaN   \n",
       "2  2013-01-24  1494.819946  0.000007               NaN         NaN   \n",
       "3  2013-01-25  1502.959961  0.005431               NaN         NaN   \n",
       "4  2013-01-28  1500.180054 -0.001851               NaN         NaN   \n",
       "5  2013-01-29  1507.839966  0.005093               NaN         NaN   \n",
       "6  2013-01-30  1501.959961 -0.003907               NaN         NaN   \n",
       "7  2013-01-31  1498.109985 -0.002567               NaN         NaN   \n",
       "8  2013-02-01  1513.170044  0.010003               NaN         NaN   \n",
       "9  2013-02-04  1495.709961 -0.011606               NaN         NaN   \n",
       "10 2013-02-05  1511.290039  0.010363               NaN         NaN   \n",
       "11 2013-02-06  1512.119995  0.000549               NaN         NaN   \n",
       "12 2013-02-07  1509.390015 -0.001807               NaN         NaN   \n",
       "13 2013-02-08  1517.930054  0.005642               NaN         NaN   \n",
       "14 2013-02-11  1517.010010 -0.000606               NaN         NaN   \n",
       "15 2013-02-12  1519.430054  0.001594               NaN         NaN   \n",
       "16 2013-02-13  1520.329956  0.000592               NaN         NaN   \n",
       "17 2013-02-14  1521.380005  0.000690               NaN         NaN   \n",
       "18 2013-02-15  1519.790039 -0.001046               NaN         NaN   \n",
       "19 2013-02-19  1530.939941  0.007310               NaN         NaN   \n",
       "20 2013-02-20  1511.949951 -0.012482               NaN         NaN   \n",
       "21 2013-02-21  1502.420044 -0.006323          0.005969   -0.043908   \n",
       "22 2013-02-22  1515.599976  0.008734          0.006243   -0.045926   \n",
       "23 2013-02-25  1487.849976 -0.018479          0.007513   -0.055272   \n",
       "24 2013-02-26  1496.939941  0.006091          0.007540   -0.055465   \n",
       "\n",
       "    10 Day Return  \n",
       "0             NaN  \n",
       "1             NaN  \n",
       "2             NaN  \n",
       "3             NaN  \n",
       "4             NaN  \n",
       "5             NaN  \n",
       "6             NaN  \n",
       "7             NaN  \n",
       "8             NaN  \n",
       "9             NaN  \n",
       "10       0.012471  \n",
       "11       0.011513  \n",
       "12       0.009700  \n",
       "13       0.009911  \n",
       "14       0.011156  \n",
       "15       0.007657  \n",
       "16       0.012156  \n",
       "17       0.015414  \n",
       "18       0.004365  \n",
       "19       0.023281  \n",
       "20       0.000437  \n",
       "21      -0.006435  \n",
       "22       0.004106  \n",
       "23      -0.020015  \n",
       "24      -0.013318  "
      ]
     },
     "execution_count": 51,
     "metadata": {},
     "output_type": "execute_result"
    }
   ],
   "source": [
    "df_SP500.head(25)"
   ]
  },
  {
   "cell_type": "markdown",
   "id": "3a1a1ac9-2902-4c2d-bce7-4a042fc822b7",
   "metadata": {},
   "source": [
    "Now, let's dive into the 3 questions."
   ]
  },
  {
   "cell_type": "markdown",
   "id": "ab6ab6f9-a2cf-4bb6-8480-db6cfc65c51d",
   "metadata": {},
   "source": [
    "## (a) The count and percentage of VaR breaches. ##"
   ]
  },
  {
   "cell_type": "markdown",
   "id": "9fbee163-9cc2-4bf9-96e8-76978af4bd03",
   "metadata": {},
   "source": [
    "Create a column 'VaR Breach' to host the values of whether the 10 Day Return is smaller than the 10 Day VaR: if yes, the value is 1, if no, 0. <br>\n",
    "Meanwhile, we know that the 10 Day VaR only starts from row 21, so we will calculate from here."
   ]
  },
  {
   "cell_type": "code",
   "execution_count": 52,
   "id": "c10459e3-2cdd-4cb6-ae90-7f7633a2c862",
   "metadata": {},
   "outputs": [],
   "source": [
    "df_SP500['VaR Breach'] = np.nan\n",
    "for i in df_SP500.index:\n",
    "    if i>20:\n",
    "        if df_SP500.at[i,'10 Day Return']<df_SP500.at[i,'10 Day VaR']:\n",
    "            df_SP500.at[i,'VaR Breach'] = 1\n",
    "        else:\n",
    "            df_SP500.at[i,'VaR Breach'] = 0"
   ]
  },
  {
   "cell_type": "code",
   "execution_count": 55,
   "id": "5ad2a4cc-59ec-48ec-adfe-0fb85f153143",
   "metadata": {},
   "outputs": [
    {
     "data": {
      "text/html": [
       "<div>\n",
       "<style scoped>\n",
       "    .dataframe tbody tr th:only-of-type {\n",
       "        vertical-align: middle;\n",
       "    }\n",
       "\n",
       "    .dataframe tbody tr th {\n",
       "        vertical-align: top;\n",
       "    }\n",
       "\n",
       "    .dataframe thead th {\n",
       "        text-align: right;\n",
       "    }\n",
       "</style>\n",
       "<table border=\"1\" class=\"dataframe\">\n",
       "  <thead>\n",
       "    <tr style=\"text-align: right;\">\n",
       "      <th></th>\n",
       "      <th>Date</th>\n",
       "      <th>SP500</th>\n",
       "      <th>Return</th>\n",
       "      <th>21 Day Rolling σ</th>\n",
       "      <th>10 Day VaR</th>\n",
       "      <th>10 Day Return</th>\n",
       "      <th>VaR Breach</th>\n",
       "    </tr>\n",
       "  </thead>\n",
       "  <tbody>\n",
       "    <tr>\n",
       "      <th>0</th>\n",
       "      <td>2013-01-22</td>\n",
       "      <td>1492.560059</td>\n",
       "      <td>NaN</td>\n",
       "      <td>NaN</td>\n",
       "      <td>NaN</td>\n",
       "      <td>NaN</td>\n",
       "      <td>NaN</td>\n",
       "    </tr>\n",
       "    <tr>\n",
       "      <th>1</th>\n",
       "      <td>2013-01-23</td>\n",
       "      <td>1494.810059</td>\n",
       "      <td>0.001506</td>\n",
       "      <td>NaN</td>\n",
       "      <td>NaN</td>\n",
       "      <td>NaN</td>\n",
       "      <td>NaN</td>\n",
       "    </tr>\n",
       "    <tr>\n",
       "      <th>2</th>\n",
       "      <td>2013-01-24</td>\n",
       "      <td>1494.819946</td>\n",
       "      <td>0.000007</td>\n",
       "      <td>NaN</td>\n",
       "      <td>NaN</td>\n",
       "      <td>NaN</td>\n",
       "      <td>NaN</td>\n",
       "    </tr>\n",
       "    <tr>\n",
       "      <th>3</th>\n",
       "      <td>2013-01-25</td>\n",
       "      <td>1502.959961</td>\n",
       "      <td>0.005431</td>\n",
       "      <td>NaN</td>\n",
       "      <td>NaN</td>\n",
       "      <td>NaN</td>\n",
       "      <td>NaN</td>\n",
       "    </tr>\n",
       "    <tr>\n",
       "      <th>4</th>\n",
       "      <td>2013-01-28</td>\n",
       "      <td>1500.180054</td>\n",
       "      <td>-0.001851</td>\n",
       "      <td>NaN</td>\n",
       "      <td>NaN</td>\n",
       "      <td>NaN</td>\n",
       "      <td>NaN</td>\n",
       "    </tr>\n",
       "    <tr>\n",
       "      <th>5</th>\n",
       "      <td>2013-01-29</td>\n",
       "      <td>1507.839966</td>\n",
       "      <td>0.005093</td>\n",
       "      <td>NaN</td>\n",
       "      <td>NaN</td>\n",
       "      <td>NaN</td>\n",
       "      <td>NaN</td>\n",
       "    </tr>\n",
       "    <tr>\n",
       "      <th>6</th>\n",
       "      <td>2013-01-30</td>\n",
       "      <td>1501.959961</td>\n",
       "      <td>-0.003907</td>\n",
       "      <td>NaN</td>\n",
       "      <td>NaN</td>\n",
       "      <td>NaN</td>\n",
       "      <td>NaN</td>\n",
       "    </tr>\n",
       "    <tr>\n",
       "      <th>7</th>\n",
       "      <td>2013-01-31</td>\n",
       "      <td>1498.109985</td>\n",
       "      <td>-0.002567</td>\n",
       "      <td>NaN</td>\n",
       "      <td>NaN</td>\n",
       "      <td>NaN</td>\n",
       "      <td>NaN</td>\n",
       "    </tr>\n",
       "    <tr>\n",
       "      <th>8</th>\n",
       "      <td>2013-02-01</td>\n",
       "      <td>1513.170044</td>\n",
       "      <td>0.010003</td>\n",
       "      <td>NaN</td>\n",
       "      <td>NaN</td>\n",
       "      <td>NaN</td>\n",
       "      <td>NaN</td>\n",
       "    </tr>\n",
       "    <tr>\n",
       "      <th>9</th>\n",
       "      <td>2013-02-04</td>\n",
       "      <td>1495.709961</td>\n",
       "      <td>-0.011606</td>\n",
       "      <td>NaN</td>\n",
       "      <td>NaN</td>\n",
       "      <td>NaN</td>\n",
       "      <td>NaN</td>\n",
       "    </tr>\n",
       "    <tr>\n",
       "      <th>10</th>\n",
       "      <td>2013-02-05</td>\n",
       "      <td>1511.290039</td>\n",
       "      <td>0.010363</td>\n",
       "      <td>NaN</td>\n",
       "      <td>NaN</td>\n",
       "      <td>0.012471</td>\n",
       "      <td>NaN</td>\n",
       "    </tr>\n",
       "    <tr>\n",
       "      <th>11</th>\n",
       "      <td>2013-02-06</td>\n",
       "      <td>1512.119995</td>\n",
       "      <td>0.000549</td>\n",
       "      <td>NaN</td>\n",
       "      <td>NaN</td>\n",
       "      <td>0.011513</td>\n",
       "      <td>NaN</td>\n",
       "    </tr>\n",
       "    <tr>\n",
       "      <th>12</th>\n",
       "      <td>2013-02-07</td>\n",
       "      <td>1509.390015</td>\n",
       "      <td>-0.001807</td>\n",
       "      <td>NaN</td>\n",
       "      <td>NaN</td>\n",
       "      <td>0.009700</td>\n",
       "      <td>NaN</td>\n",
       "    </tr>\n",
       "    <tr>\n",
       "      <th>13</th>\n",
       "      <td>2013-02-08</td>\n",
       "      <td>1517.930054</td>\n",
       "      <td>0.005642</td>\n",
       "      <td>NaN</td>\n",
       "      <td>NaN</td>\n",
       "      <td>0.009911</td>\n",
       "      <td>NaN</td>\n",
       "    </tr>\n",
       "    <tr>\n",
       "      <th>14</th>\n",
       "      <td>2013-02-11</td>\n",
       "      <td>1517.010010</td>\n",
       "      <td>-0.000606</td>\n",
       "      <td>NaN</td>\n",
       "      <td>NaN</td>\n",
       "      <td>0.011156</td>\n",
       "      <td>NaN</td>\n",
       "    </tr>\n",
       "    <tr>\n",
       "      <th>15</th>\n",
       "      <td>2013-02-12</td>\n",
       "      <td>1519.430054</td>\n",
       "      <td>0.001594</td>\n",
       "      <td>NaN</td>\n",
       "      <td>NaN</td>\n",
       "      <td>0.007657</td>\n",
       "      <td>NaN</td>\n",
       "    </tr>\n",
       "    <tr>\n",
       "      <th>16</th>\n",
       "      <td>2013-02-13</td>\n",
       "      <td>1520.329956</td>\n",
       "      <td>0.000592</td>\n",
       "      <td>NaN</td>\n",
       "      <td>NaN</td>\n",
       "      <td>0.012156</td>\n",
       "      <td>NaN</td>\n",
       "    </tr>\n",
       "    <tr>\n",
       "      <th>17</th>\n",
       "      <td>2013-02-14</td>\n",
       "      <td>1521.380005</td>\n",
       "      <td>0.000690</td>\n",
       "      <td>NaN</td>\n",
       "      <td>NaN</td>\n",
       "      <td>0.015414</td>\n",
       "      <td>NaN</td>\n",
       "    </tr>\n",
       "    <tr>\n",
       "      <th>18</th>\n",
       "      <td>2013-02-15</td>\n",
       "      <td>1519.790039</td>\n",
       "      <td>-0.001046</td>\n",
       "      <td>NaN</td>\n",
       "      <td>NaN</td>\n",
       "      <td>0.004365</td>\n",
       "      <td>NaN</td>\n",
       "    </tr>\n",
       "    <tr>\n",
       "      <th>19</th>\n",
       "      <td>2013-02-19</td>\n",
       "      <td>1530.939941</td>\n",
       "      <td>0.007310</td>\n",
       "      <td>NaN</td>\n",
       "      <td>NaN</td>\n",
       "      <td>0.023281</td>\n",
       "      <td>NaN</td>\n",
       "    </tr>\n",
       "    <tr>\n",
       "      <th>20</th>\n",
       "      <td>2013-02-20</td>\n",
       "      <td>1511.949951</td>\n",
       "      <td>-0.012482</td>\n",
       "      <td>NaN</td>\n",
       "      <td>NaN</td>\n",
       "      <td>0.000437</td>\n",
       "      <td>NaN</td>\n",
       "    </tr>\n",
       "    <tr>\n",
       "      <th>21</th>\n",
       "      <td>2013-02-21</td>\n",
       "      <td>1502.420044</td>\n",
       "      <td>-0.006323</td>\n",
       "      <td>0.005969</td>\n",
       "      <td>-0.043908</td>\n",
       "      <td>-0.006435</td>\n",
       "      <td>0.0</td>\n",
       "    </tr>\n",
       "    <tr>\n",
       "      <th>22</th>\n",
       "      <td>2013-02-22</td>\n",
       "      <td>1515.599976</td>\n",
       "      <td>0.008734</td>\n",
       "      <td>0.006243</td>\n",
       "      <td>-0.045926</td>\n",
       "      <td>0.004106</td>\n",
       "      <td>0.0</td>\n",
       "    </tr>\n",
       "    <tr>\n",
       "      <th>23</th>\n",
       "      <td>2013-02-25</td>\n",
       "      <td>1487.849976</td>\n",
       "      <td>-0.018479</td>\n",
       "      <td>0.007513</td>\n",
       "      <td>-0.055272</td>\n",
       "      <td>-0.020015</td>\n",
       "      <td>0.0</td>\n",
       "    </tr>\n",
       "    <tr>\n",
       "      <th>24</th>\n",
       "      <td>2013-02-26</td>\n",
       "      <td>1496.939941</td>\n",
       "      <td>0.006091</td>\n",
       "      <td>0.007540</td>\n",
       "      <td>-0.055465</td>\n",
       "      <td>-0.013318</td>\n",
       "      <td>0.0</td>\n",
       "    </tr>\n",
       "  </tbody>\n",
       "</table>\n",
       "</div>"
      ],
      "text/plain": [
       "         Date        SP500    Return  21 Day Rolling σ  10 Day VaR  \\\n",
       "0  2013-01-22  1492.560059       NaN               NaN         NaN   \n",
       "1  2013-01-23  1494.810059  0.001506               NaN         NaN   \n",
       "2  2013-01-24  1494.819946  0.000007               NaN         NaN   \n",
       "3  2013-01-25  1502.959961  0.005431               NaN         NaN   \n",
       "4  2013-01-28  1500.180054 -0.001851               NaN         NaN   \n",
       "5  2013-01-29  1507.839966  0.005093               NaN         NaN   \n",
       "6  2013-01-30  1501.959961 -0.003907               NaN         NaN   \n",
       "7  2013-01-31  1498.109985 -0.002567               NaN         NaN   \n",
       "8  2013-02-01  1513.170044  0.010003               NaN         NaN   \n",
       "9  2013-02-04  1495.709961 -0.011606               NaN         NaN   \n",
       "10 2013-02-05  1511.290039  0.010363               NaN         NaN   \n",
       "11 2013-02-06  1512.119995  0.000549               NaN         NaN   \n",
       "12 2013-02-07  1509.390015 -0.001807               NaN         NaN   \n",
       "13 2013-02-08  1517.930054  0.005642               NaN         NaN   \n",
       "14 2013-02-11  1517.010010 -0.000606               NaN         NaN   \n",
       "15 2013-02-12  1519.430054  0.001594               NaN         NaN   \n",
       "16 2013-02-13  1520.329956  0.000592               NaN         NaN   \n",
       "17 2013-02-14  1521.380005  0.000690               NaN         NaN   \n",
       "18 2013-02-15  1519.790039 -0.001046               NaN         NaN   \n",
       "19 2013-02-19  1530.939941  0.007310               NaN         NaN   \n",
       "20 2013-02-20  1511.949951 -0.012482               NaN         NaN   \n",
       "21 2013-02-21  1502.420044 -0.006323          0.005969   -0.043908   \n",
       "22 2013-02-22  1515.599976  0.008734          0.006243   -0.045926   \n",
       "23 2013-02-25  1487.849976 -0.018479          0.007513   -0.055272   \n",
       "24 2013-02-26  1496.939941  0.006091          0.007540   -0.055465   \n",
       "\n",
       "    10 Day Return  VaR Breach  \n",
       "0             NaN         NaN  \n",
       "1             NaN         NaN  \n",
       "2             NaN         NaN  \n",
       "3             NaN         NaN  \n",
       "4             NaN         NaN  \n",
       "5             NaN         NaN  \n",
       "6             NaN         NaN  \n",
       "7             NaN         NaN  \n",
       "8             NaN         NaN  \n",
       "9             NaN         NaN  \n",
       "10       0.012471         NaN  \n",
       "11       0.011513         NaN  \n",
       "12       0.009700         NaN  \n",
       "13       0.009911         NaN  \n",
       "14       0.011156         NaN  \n",
       "15       0.007657         NaN  \n",
       "16       0.012156         NaN  \n",
       "17       0.015414         NaN  \n",
       "18       0.004365         NaN  \n",
       "19       0.023281         NaN  \n",
       "20       0.000437         NaN  \n",
       "21      -0.006435         0.0  \n",
       "22       0.004106         0.0  \n",
       "23      -0.020015         0.0  \n",
       "24      -0.013318         0.0  "
      ]
     },
     "execution_count": 55,
     "metadata": {},
     "output_type": "execute_result"
    }
   ],
   "source": [
    "df_SP500.head(25)"
   ]
  },
  {
   "cell_type": "markdown",
   "id": "20fd49e9-eca6-4b72-9796-bc37ae5d52af",
   "metadata": {},
   "source": [
    "Then, we calculate the count of the VaR breaches by simply having the sum of the values of column 'VaR Breach'."
   ]
  },
  {
   "cell_type": "code",
   "execution_count": 53,
   "id": "3699b795-13a9-487c-9389-654a798c9863",
   "metadata": {},
   "outputs": [
    {
     "data": {
      "text/plain": [
       "3"
      ]
     },
     "execution_count": 53,
     "metadata": {},
     "output_type": "execute_result"
    }
   ],
   "source": [
    "int(df_SP500['VaR Breach'].sum())"
   ]
  },
  {
   "cell_type": "markdown",
   "id": "71344ce4-8d32-4dee-9d58-45ad7764c61c",
   "metadata": {},
   "source": [
    "Then, we calculate the percentage of the VaR breaches by dividing the VaR breaches with total data amount with valid VaR breach record, which is 21 less than the total data amount."
   ]
  },
  {
   "cell_type": "code",
   "execution_count": 54,
   "id": "099ab7c3-ff87-4868-89d7-326ba85de043",
   "metadata": {},
   "outputs": [
    {
     "data": {
      "text/plain": [
       "0.0024410089503661514"
      ]
     },
     "execution_count": 54,
     "metadata": {},
     "output_type": "execute_result"
    }
   ],
   "source": [
    "int(df_SP500['VaR Breach'].sum())/(len(df_SP500['VaR Breach'])-21)"
   ]
  },
  {
   "cell_type": "markdown",
   "id": "0ec000ab-95d0-43f7-9fc0-6fc2d767c2a3",
   "metadata": {},
   "source": [
    "### There are 3 VaR breaches, which is 0.244% of the total data.  ###\n",
    "### This is quite good as it is much lower than 1% which is expected from the confidence level 99%. ###"
   ]
  },
  {
   "cell_type": "markdown",
   "id": "61b57663-a804-4588-9d44-6963b6e1eaa6",
   "metadata": {},
   "source": [
    "## (b) The count and percentage of consecutive VaR breaches. ##"
   ]
  },
  {
   "cell_type": "markdown",
   "id": "c7b8c9c8-32de-43ac-af3e-8119fca8559c",
   "metadata": {},
   "source": [
    "Since there are only 3 VaR breaches, I can directly isolate them from the data set by creating a new dataframe 'df_SP500_VaR_Breach'."
   ]
  },
  {
   "cell_type": "code",
   "execution_count": 56,
   "id": "40afe94c-9afb-4bba-9113-018d5d56bef0",
   "metadata": {},
   "outputs": [],
   "source": [
    "df_SP500_VaR_Breach = df_SP500[df_SP500['VaR Breach'] == 1]"
   ]
  },
  {
   "cell_type": "code",
   "execution_count": 57,
   "id": "37de8505-c19f-4f4b-ab75-ce89309d1632",
   "metadata": {},
   "outputs": [
    {
     "data": {
      "text/html": [
       "<div>\n",
       "<style scoped>\n",
       "    .dataframe tbody tr th:only-of-type {\n",
       "        vertical-align: middle;\n",
       "    }\n",
       "\n",
       "    .dataframe tbody tr th {\n",
       "        vertical-align: top;\n",
       "    }\n",
       "\n",
       "    .dataframe thead th {\n",
       "        text-align: right;\n",
       "    }\n",
       "</style>\n",
       "<table border=\"1\" class=\"dataframe\">\n",
       "  <thead>\n",
       "    <tr style=\"text-align: right;\">\n",
       "      <th></th>\n",
       "      <th>Date</th>\n",
       "      <th>SP500</th>\n",
       "      <th>Return</th>\n",
       "      <th>21 Day Rolling σ</th>\n",
       "      <th>10 Day VaR</th>\n",
       "      <th>10 Day Return</th>\n",
       "      <th>VaR Breach</th>\n",
       "    </tr>\n",
       "  </thead>\n",
       "  <tbody>\n",
       "    <tr>\n",
       "      <th>652</th>\n",
       "      <td>2015-08-24</td>\n",
       "      <td>1893.209961</td>\n",
       "      <td>-0.040211</td>\n",
       "      <td>0.013055</td>\n",
       "      <td>-0.096040</td>\n",
       "      <td>-0.105652</td>\n",
       "      <td>1.0</td>\n",
       "    </tr>\n",
       "    <tr>\n",
       "      <th>653</th>\n",
       "      <td>2015-08-25</td>\n",
       "      <td>1867.609985</td>\n",
       "      <td>-0.013614</td>\n",
       "      <td>0.013205</td>\n",
       "      <td>-0.097146</td>\n",
       "      <td>-0.109663</td>\n",
       "      <td>1.0</td>\n",
       "    </tr>\n",
       "    <tr>\n",
       "      <th>750</th>\n",
       "      <td>2016-01-13</td>\n",
       "      <td>1890.280029</td>\n",
       "      <td>-0.025282</td>\n",
       "      <td>0.012386</td>\n",
       "      <td>-0.091120</td>\n",
       "      <td>-0.094854</td>\n",
       "      <td>1.0</td>\n",
       "    </tr>\n",
       "  </tbody>\n",
       "</table>\n",
       "</div>"
      ],
      "text/plain": [
       "          Date        SP500    Return  21 Day Rolling σ  10 Day VaR  \\\n",
       "652 2015-08-24  1893.209961 -0.040211          0.013055   -0.096040   \n",
       "653 2015-08-25  1867.609985 -0.013614          0.013205   -0.097146   \n",
       "750 2016-01-13  1890.280029 -0.025282          0.012386   -0.091120   \n",
       "\n",
       "     10 Day Return  VaR Breach  \n",
       "652      -0.105652         1.0  \n",
       "653      -0.109663         1.0  \n",
       "750      -0.094854         1.0  "
      ]
     },
     "execution_count": 57,
     "metadata": {},
     "output_type": "execute_result"
    }
   ],
   "source": [
    "df_SP500_VaR_Breach"
   ]
  },
  {
   "cell_type": "markdown",
   "id": "12708fe5-4d6b-4ca3-8c71-23b16d037ab5",
   "metadata": {},
   "source": [
    "The consecutive VaR breaches only happend once on 25th August, 2015."
   ]
  },
  {
   "cell_type": "markdown",
   "id": "0792422e-ccd0-4de6-a2f9-9c0469163c3d",
   "metadata": {},
   "source": [
    "Then, we calculate the percentage of the consecutive VaR breaches by dividing the VaR breaches with total data amount with valid VaR breach record and also excluding the first day with valid VaR breach record as this day cannot have consecutive VaR breach. This is 22 less than the total data amount."
   ]
  },
  {
   "cell_type": "code",
   "execution_count": 59,
   "id": "b5e33aaa-ad68-4ba6-bb53-b4cb961c8915",
   "metadata": {},
   "outputs": [
    {
     "data": {
      "text/plain": [
       "0.0008143322475570033"
      ]
     },
     "execution_count": 59,
     "metadata": {},
     "output_type": "execute_result"
    }
   ],
   "source": [
    "1/(len(df_SP500['VaR Breach'])-22)"
   ]
  },
  {
   "cell_type": "markdown",
   "id": "fbf79c28-981b-4844-926b-9b0bb66f8bb8",
   "metadata": {},
   "source": [
    "### There is only 1 consecutive VaR breach, which is 0.081% of the total data."
   ]
  },
  {
   "cell_type": "markdown",
   "id": "30f1ffae-ee6e-4289-89a8-807e9e99f6cf",
   "metadata": {},
   "source": [
    "## (c) Provide a plot which identifies the breaches visually, with crosses or other marks. ##"
   ]
  },
  {
   "cell_type": "code",
   "execution_count": 60,
   "id": "4394e3d5-bd52-47da-b3c1-60b56571a670",
   "metadata": {},
   "outputs": [
    {
     "data": {
      "image/png": "[encoded data removed]",
      "text/plain": [
       "<Figure size 1200x300 with 1 Axes>"
      ]
     },
     "metadata": {},
     "output_type": "display_data"
    }
   ],
   "source": [
    "plt.figure(figsize=(12, 3))\n",
    "plt.scatter(df_SP500['Date'], df_SP500['VaR Breach'], color='r', marker='x')\n",
    "plt.xlabel('Date')\n",
    "plt.yticks([0, 1], ['No','Yes'])\n",
    "plt.title('VaR Breach Over Time - 21 Day Rolling σ')\n",
    "plt.show()"
   ]
  },
  {
   "cell_type": "markdown",
   "id": "bc24cd51-e9d8-4799-a5ca-637036691b87",
   "metadata": {},
   "source": [
    "Because there is a consecutive breach here, these 2 breaches are almost overlapped with each other in the full plot. So, I will isolate the period of time that only covers all the 3 breaches and do a close-up plot."
   ]
  },
  {
   "cell_type": "code",
   "execution_count": 62,
   "id": "042726da-70e8-4da6-9348-481516362230",
   "metadata": {},
   "outputs": [
    {
     "data": {
      "image/png": "[encoded data removed]",
      "text/plain": [
       "<Figure size 1500x300 with 1 Axes>"
      ]
     },
     "metadata": {},
     "output_type": "display_data"
    }
   ],
   "source": [
    "plt.figure(figsize=(15, 3))\n",
    "plt.scatter(df_SP500[df_SP500_VaR_Breach.index[0]: df_SP500_VaR_Breach.index[-1]+1]['Date'],\n",
    "            df_SP500[df_SP500_VaR_Breach.index[0]: df_SP500_VaR_Breach.index[-1]+1]['VaR Breach'],\n",
    "            color='r', marker='x')\n",
    "plt.xlabel('Date')\n",
    "plt.yticks([0, 1], ['No','Yes'])\n",
    "plt.title('VaR Breach Over Time - 21 Day Rolling σ (Clos-up)')\n",
    "plt.show()"
   ]
  },
  {
   "cell_type": "markdown",
   "id": "1a50fe1f-2009-4d92-8351-f0dbcf3dd198",
   "metadata": {},
   "source": [
    "Now, I would like to export the dataframe 'df_SP500' as Excel sheet to submit as part of the exame for full inspection. The plot image will also be copy-pasted to the Excel sheet."
   ]
  },
  {
   "cell_type": "code",
   "execution_count": 253,
   "id": "39d5b028-7e66-4c3b-ae15-cbf20ed10a41",
   "metadata": {},
   "outputs": [],
   "source": [
    "df_SP500.to_excel('./Question_6.xlsx', index=False)"
   ]
  },
  {
   "cell_type": "markdown",
   "id": "8c309a29-904e-4eb9-a13f-4abdd8a5e69e",
   "metadata": {},
   "source": [
    "# Question 7 #"
   ]
  },
  {
   "cell_type": "markdown",
   "id": "9ef721c4-68a7-44cc-b41e-8c6e4de2ce6c",
   "metadata": {},
   "source": [
    "## Preparation ##"
   ]
  },
  {
   "cell_type": "markdown",
   "id": "4c1a1987-b4b9-4f79-9ec0-9e27aa40c92c",
   "metadata": {},
   "source": [
    "Reimport the data as dataframe 'df_SP500_2'. Create a column of 'Return' to host the values of daily returns as in Question 6."
   ]
  },
  {
   "cell_type": "code",
   "execution_count": 67,
   "id": "bc0a5d3f-9564-4606-bb23-c4a2a1dd6665",
   "metadata": {},
   "outputs": [],
   "source": [
    "df_SP500_2 = pd.read_csv('./CQF E1 2025 - Data_SP500.csv', parse_dates=['Date'], dayfirst=True)"
   ]
  },
  {
   "cell_type": "code",
   "execution_count": 68,
   "id": "9107fa25-207c-4b1c-a4ad-eff353ff30ce",
   "metadata": {},
   "outputs": [],
   "source": [
    "df_SP500_2['Return'] = np.nan\n",
    "for i in df_SP500_2.index:\n",
    "    if i>0:\n",
    "        df_SP500_2.at[i,'Return'] = np.log(df_SP500_2.at[i,'SP500'] / df_SP500_2.at[i-1,'SP500'])"
   ]
  },
  {
   "cell_type": "markdown",
   "id": "aa7afff6-e55f-466d-8730-56f767b86a40",
   "metadata": {},
   "source": [
    "This is the part different from Question 6, where I will create a column of 'EMWA σ' to host the values of standard deviation based on the EMWA equation:\n",
    "$$ \\sigma^2_{t+1|t} = \\lambda \\sigma^2_{t|t-1} + (1-\\lambda)r^2_t$$\n",
    "As we set $ \\lambda = 0.72$, the equation becomes:\n",
    "$$ \\sigma^2_{t+1|t} = 0.72 \\sigma^2_{t|t-1} + 0.28r^2_t$$\n",
    "Accordingly:\n",
    "$$ \\sigma_{t+1|t} = \\sqrt{0.72 \\sigma^2_{t|t-1} + 0.28r^2_t}$$\n",
    "Below is the code to create the column of 'EMWA σ'."
   ]
  },
  {
   "cell_type": "code",
   "execution_count": 70,
   "id": "70192de8-b359-4ac1-be92-dc6925739677",
   "metadata": {},
   "outputs": [],
   "source": [
    "df_SP500_2['EMWA σ'] = np.nan\n",
    "\n",
    "#Manually calculate value on the day 3 which is at row 2, as we think EMWA σ in the previous day is zero:\n",
    "df_SP500_2.at[2,'EMWA σ'] = np.sqrt(0.28*df_SP500_2.at[2,'Return']**2)\n",
    "\n",
    "#The actual calculation with the equation starts from day 4 which is at row 3\n",
    "for i in df_SP500_2.index:\n",
    "    if i>2:\n",
    "        df_SP500_2.at[i,'EMWA σ'] = np.sqrt(0.72*df_SP500_2.at[i-1,'EMWA σ']**2 + 0.28*df_SP500_2.at[i-1,'Return']**2)"
   ]
  },
  {
   "cell_type": "markdown",
   "id": "9776d0da-93bd-4793-955d-3900455ae5b1",
   "metadata": {},
   "source": [
    "Check the data."
   ]
  },
  {
   "cell_type": "code",
   "execution_count": 71,
   "id": "70f4d185-0571-4268-9e0d-4fd6a14d5b4a",
   "metadata": {},
   "outputs": [
    {
     "data": {
      "text/html": [
       "<div>\n",
       "<style scoped>\n",
       "    .dataframe tbody tr th:only-of-type {\n",
       "        vertical-align: middle;\n",
       "    }\n",
       "\n",
       "    .dataframe tbody tr th {\n",
       "        vertical-align: top;\n",
       "    }\n",
       "\n",
       "    .dataframe thead th {\n",
       "        text-align: right;\n",
       "    }\n",
       "</style>\n",
       "<table border=\"1\" class=\"dataframe\">\n",
       "  <thead>\n",
       "    <tr style=\"text-align: right;\">\n",
       "      <th></th>\n",
       "      <th>Date</th>\n",
       "      <th>SP500</th>\n",
       "      <th>Return</th>\n",
       "      <th>EMWA σ</th>\n",
       "    </tr>\n",
       "  </thead>\n",
       "  <tbody>\n",
       "    <tr>\n",
       "      <th>0</th>\n",
       "      <td>2013-01-22</td>\n",
       "      <td>1492.560059</td>\n",
       "      <td>NaN</td>\n",
       "      <td>NaN</td>\n",
       "    </tr>\n",
       "    <tr>\n",
       "      <th>1</th>\n",
       "      <td>2013-01-23</td>\n",
       "      <td>1494.810059</td>\n",
       "      <td>0.001506</td>\n",
       "      <td>NaN</td>\n",
       "    </tr>\n",
       "    <tr>\n",
       "      <th>2</th>\n",
       "      <td>2013-01-24</td>\n",
       "      <td>1494.819946</td>\n",
       "      <td>0.000007</td>\n",
       "      <td>0.000003</td>\n",
       "    </tr>\n",
       "    <tr>\n",
       "      <th>3</th>\n",
       "      <td>2013-01-25</td>\n",
       "      <td>1502.959961</td>\n",
       "      <td>0.005431</td>\n",
       "      <td>0.000005</td>\n",
       "    </tr>\n",
       "    <tr>\n",
       "      <th>4</th>\n",
       "      <td>2013-01-28</td>\n",
       "      <td>1500.180054</td>\n",
       "      <td>-0.001851</td>\n",
       "      <td>0.002874</td>\n",
       "    </tr>\n",
       "  </tbody>\n",
       "</table>\n",
       "</div>"
      ],
      "text/plain": [
       "        Date        SP500    Return    EMWA σ\n",
       "0 2013-01-22  1492.560059       NaN       NaN\n",
       "1 2013-01-23  1494.810059  0.001506       NaN\n",
       "2 2013-01-24  1494.819946  0.000007  0.000003\n",
       "3 2013-01-25  1502.959961  0.005431  0.000005\n",
       "4 2013-01-28  1500.180054 -0.001851  0.002874"
      ]
     },
     "execution_count": 71,
     "metadata": {},
     "output_type": "execute_result"
    }
   ],
   "source": [
    "df_SP500_2.head()"
   ]
  },
  {
   "cell_type": "markdown",
   "id": "4e56305f-d953-4365-a849-ba1a08b1f2ba",
   "metadata": {},
   "source": [
    "Create a column of '10 Day VaR' to host the values of Value at Risk for 10 days from the function:\n",
    "$$ VaR_{10D,t} = Factor \\times \\sigma_t \\times \\sqrt{10} $$\n",
    "Meanwhile, since we know the confidence level $(c)$ is $0.99$, we can calculate the $Factor$ as $-2.32635 $.\n",
    "$$ Factor = \\Phi^{-1}(1-c) = \\Phi^{-1}(0.01) \\approx -2.32635$$"
   ]
  },
  {
   "cell_type": "code",
   "execution_count": 72,
   "id": "2ec94637-4e45-47a6-bc50-f4541e01c35a",
   "metadata": {},
   "outputs": [
    {
     "name": "stdout",
     "output_type": "stream",
     "text": [
      "-2.3263478740408408\n"
     ]
    }
   ],
   "source": [
    "Factor = float(norm.ppf(0.01))\n",
    "print(Factor)"
   ]
  },
  {
   "cell_type": "code",
   "execution_count": 73,
   "id": "a5c43635-fd51-417a-b1ad-31b0e56d9459",
   "metadata": {},
   "outputs": [],
   "source": [
    "df_SP500_2['10 Day VaR'] = Factor*df_SP500_2['EMWA σ']*np.sqrt(10)"
   ]
  },
  {
   "cell_type": "markdown",
   "id": "289b94b1-0222-4dbf-a36d-9e839d183eec",
   "metadata": {},
   "source": [
    "Create a column of '10 Day Return' to host the values of 10 day returns, calculated from the function: \n",
    "$$ R_{10} = ln(S_{(t+10)}/St) $$"
   ]
  },
  {
   "cell_type": "code",
   "execution_count": 74,
   "id": "33270922-46cc-4c09-8ae1-a53e77934378",
   "metadata": {},
   "outputs": [],
   "source": [
    "df_SP500_2['10 Day Return'] = np.nan\n",
    "for i in df_SP500.index:\n",
    "    if i>9:\n",
    "        df_SP500_2.at[i,'10 Day Return'] = np.log(df_SP500_2.at[i,'SP500'] / df_SP500_2.at[i-10,'SP500'])"
   ]
  },
  {
   "cell_type": "markdown",
   "id": "32fa46ab-72ae-4a12-b3df-92e7ec00d82f",
   "metadata": {},
   "source": [
    "Check the data now."
   ]
  },
  {
   "cell_type": "code",
   "execution_count": 75,
   "id": "dbb9a548-e0ce-48e3-9141-80e37342dff1",
   "metadata": {},
   "outputs": [
    {
     "data": {
      "text/html": [
       "<div>\n",
       "<style scoped>\n",
       "    .dataframe tbody tr th:only-of-type {\n",
       "        vertical-align: middle;\n",
       "    }\n",
       "\n",
       "    .dataframe tbody tr th {\n",
       "        vertical-align: top;\n",
       "    }\n",
       "\n",
       "    .dataframe thead th {\n",
       "        text-align: right;\n",
       "    }\n",
       "</style>\n",
       "<table border=\"1\" class=\"dataframe\">\n",
       "  <thead>\n",
       "    <tr style=\"text-align: right;\">\n",
       "      <th></th>\n",
       "      <th>Date</th>\n",
       "      <th>SP500</th>\n",
       "      <th>Return</th>\n",
       "      <th>EMWA σ</th>\n",
       "      <th>10 Day VaR</th>\n",
       "      <th>10 Day Return</th>\n",
       "    </tr>\n",
       "  </thead>\n",
       "  <tbody>\n",
       "    <tr>\n",
       "      <th>0</th>\n",
       "      <td>2013-01-22</td>\n",
       "      <td>1492.560059</td>\n",
       "      <td>NaN</td>\n",
       "      <td>NaN</td>\n",
       "      <td>NaN</td>\n",
       "      <td>NaN</td>\n",
       "    </tr>\n",
       "    <tr>\n",
       "      <th>1</th>\n",
       "      <td>2013-01-23</td>\n",
       "      <td>1494.810059</td>\n",
       "      <td>0.001506</td>\n",
       "      <td>NaN</td>\n",
       "      <td>NaN</td>\n",
       "      <td>NaN</td>\n",
       "    </tr>\n",
       "    <tr>\n",
       "      <th>2</th>\n",
       "      <td>2013-01-24</td>\n",
       "      <td>1494.819946</td>\n",
       "      <td>0.000007</td>\n",
       "      <td>0.000003</td>\n",
       "      <td>-0.000026</td>\n",
       "      <td>NaN</td>\n",
       "    </tr>\n",
       "    <tr>\n",
       "      <th>3</th>\n",
       "      <td>2013-01-25</td>\n",
       "      <td>1502.959961</td>\n",
       "      <td>0.005431</td>\n",
       "      <td>0.000005</td>\n",
       "      <td>-0.000034</td>\n",
       "      <td>NaN</td>\n",
       "    </tr>\n",
       "    <tr>\n",
       "      <th>4</th>\n",
       "      <td>2013-01-28</td>\n",
       "      <td>1500.180054</td>\n",
       "      <td>-0.001851</td>\n",
       "      <td>0.002874</td>\n",
       "      <td>-0.021140</td>\n",
       "      <td>NaN</td>\n",
       "    </tr>\n",
       "    <tr>\n",
       "      <th>5</th>\n",
       "      <td>2013-01-29</td>\n",
       "      <td>1507.839966</td>\n",
       "      <td>0.005093</td>\n",
       "      <td>0.002628</td>\n",
       "      <td>-0.019332</td>\n",
       "      <td>NaN</td>\n",
       "    </tr>\n",
       "    <tr>\n",
       "      <th>6</th>\n",
       "      <td>2013-01-30</td>\n",
       "      <td>1501.959961</td>\n",
       "      <td>-0.003907</td>\n",
       "      <td>0.003498</td>\n",
       "      <td>-0.025732</td>\n",
       "      <td>NaN</td>\n",
       "    </tr>\n",
       "    <tr>\n",
       "      <th>7</th>\n",
       "      <td>2013-01-31</td>\n",
       "      <td>1498.109985</td>\n",
       "      <td>-0.002567</td>\n",
       "      <td>0.003617</td>\n",
       "      <td>-0.026610</td>\n",
       "      <td>NaN</td>\n",
       "    </tr>\n",
       "    <tr>\n",
       "      <th>8</th>\n",
       "      <td>2013-02-01</td>\n",
       "      <td>1513.170044</td>\n",
       "      <td>0.010003</td>\n",
       "      <td>0.003356</td>\n",
       "      <td>-0.024691</td>\n",
       "      <td>NaN</td>\n",
       "    </tr>\n",
       "    <tr>\n",
       "      <th>9</th>\n",
       "      <td>2013-02-04</td>\n",
       "      <td>1495.709961</td>\n",
       "      <td>-0.011606</td>\n",
       "      <td>0.006010</td>\n",
       "      <td>-0.044216</td>\n",
       "      <td>NaN</td>\n",
       "    </tr>\n",
       "    <tr>\n",
       "      <th>10</th>\n",
       "      <td>2013-02-05</td>\n",
       "      <td>1511.290039</td>\n",
       "      <td>0.010363</td>\n",
       "      <td>0.007983</td>\n",
       "      <td>-0.058726</td>\n",
       "      <td>0.012471</td>\n",
       "    </tr>\n",
       "    <tr>\n",
       "      <th>11</th>\n",
       "      <td>2013-02-06</td>\n",
       "      <td>1512.119995</td>\n",
       "      <td>0.000549</td>\n",
       "      <td>0.008715</td>\n",
       "      <td>-0.064112</td>\n",
       "      <td>0.011513</td>\n",
       "    </tr>\n",
       "    <tr>\n",
       "      <th>12</th>\n",
       "      <td>2013-02-07</td>\n",
       "      <td>1509.390015</td>\n",
       "      <td>-0.001807</td>\n",
       "      <td>0.007401</td>\n",
       "      <td>-0.054442</td>\n",
       "      <td>0.009700</td>\n",
       "    </tr>\n",
       "    <tr>\n",
       "      <th>13</th>\n",
       "      <td>2013-02-08</td>\n",
       "      <td>1517.930054</td>\n",
       "      <td>0.005642</td>\n",
       "      <td>0.006352</td>\n",
       "      <td>-0.046728</td>\n",
       "      <td>0.009911</td>\n",
       "    </tr>\n",
       "    <tr>\n",
       "      <th>14</th>\n",
       "      <td>2013-02-11</td>\n",
       "      <td>1517.010010</td>\n",
       "      <td>-0.000606</td>\n",
       "      <td>0.006161</td>\n",
       "      <td>-0.045327</td>\n",
       "      <td>0.011156</td>\n",
       "    </tr>\n",
       "  </tbody>\n",
       "</table>\n",
       "</div>"
      ],
      "text/plain": [
       "         Date        SP500    Return    EMWA σ  10 Day VaR  10 Day Return\n",
       "0  2013-01-22  1492.560059       NaN       NaN         NaN            NaN\n",
       "1  2013-01-23  1494.810059  0.001506       NaN         NaN            NaN\n",
       "2  2013-01-24  1494.819946  0.000007  0.000003   -0.000026            NaN\n",
       "3  2013-01-25  1502.959961  0.005431  0.000005   -0.000034            NaN\n",
       "4  2013-01-28  1500.180054 -0.001851  0.002874   -0.021140            NaN\n",
       "5  2013-01-29  1507.839966  0.005093  0.002628   -0.019332            NaN\n",
       "6  2013-01-30  1501.959961 -0.003907  0.003498   -0.025732            NaN\n",
       "7  2013-01-31  1498.109985 -0.002567  0.003617   -0.026610            NaN\n",
       "8  2013-02-01  1513.170044  0.010003  0.003356   -0.024691            NaN\n",
       "9  2013-02-04  1495.709961 -0.011606  0.006010   -0.044216            NaN\n",
       "10 2013-02-05  1511.290039  0.010363  0.007983   -0.058726       0.012471\n",
       "11 2013-02-06  1512.119995  0.000549  0.008715   -0.064112       0.011513\n",
       "12 2013-02-07  1509.390015 -0.001807  0.007401   -0.054442       0.009700\n",
       "13 2013-02-08  1517.930054  0.005642  0.006352   -0.046728       0.009911\n",
       "14 2013-02-11  1517.010010 -0.000606  0.006161   -0.045327       0.011156"
      ]
     },
     "execution_count": 75,
     "metadata": {},
     "output_type": "execute_result"
    }
   ],
   "source": [
    "df_SP500_2.head(15)"
   ]
  },
  {
   "cell_type": "markdown",
   "id": "38a67644-4f51-4101-8d95-619b5fc6052d",
   "metadata": {},
   "source": [
    "Now, let's dive into the 3 questions."
   ]
  },
  {
   "cell_type": "markdown",
   "id": "94f6ca78-4ef8-48ee-9bd7-6ef2641ee402",
   "metadata": {},
   "source": [
    "## (a) The count and percentage of VaR breaches. ##"
   ]
  },
  {
   "cell_type": "markdown",
   "id": "5f02fce6-ce6b-41b8-8020-49269b861c5c",
   "metadata": {},
   "source": [
    "Create a column 'VaR Breach' to host the values of whether the 10 Day Return is smaller than the 10 Day VaR: if yes, the value is 1, if no, 0. <br>\n",
    "Meanwhile, we know that the 10 Day Return only starts from row 10, so we will calculate from here."
   ]
  },
  {
   "cell_type": "code",
   "execution_count": 76,
   "id": "50a09d25-6f31-4f0c-a615-e2d114043fd7",
   "metadata": {},
   "outputs": [],
   "source": [
    "df_SP500_2['VaR Breach'] = np.nan\n",
    "for i in df_SP500.index:\n",
    "    if i>9:\n",
    "        if df_SP500_2.at[i,'10 Day Return']<df_SP500_2.at[i,'10 Day VaR']:\n",
    "            df_SP500_2.at[i,'VaR Breach'] = 1\n",
    "        else:\n",
    "            df_SP500_2.at[i,'VaR Breach'] = 0"
   ]
  },
  {
   "cell_type": "code",
   "execution_count": 77,
   "id": "92f44507-71a7-40cc-9cee-e6c7a69766c7",
   "metadata": {},
   "outputs": [
    {
     "data": {
      "text/html": [
       "<div>\n",
       "<style scoped>\n",
       "    .dataframe tbody tr th:only-of-type {\n",
       "        vertical-align: middle;\n",
       "    }\n",
       "\n",
       "    .dataframe tbody tr th {\n",
       "        vertical-align: top;\n",
       "    }\n",
       "\n",
       "    .dataframe thead th {\n",
       "        text-align: right;\n",
       "    }\n",
       "</style>\n",
       "<table border=\"1\" class=\"dataframe\">\n",
       "  <thead>\n",
       "    <tr style=\"text-align: right;\">\n",
       "      <th></th>\n",
       "      <th>Date</th>\n",
       "      <th>SP500</th>\n",
       "      <th>Return</th>\n",
       "      <th>EMWA σ</th>\n",
       "      <th>10 Day VaR</th>\n",
       "      <th>10 Day Return</th>\n",
       "      <th>VaR Breach</th>\n",
       "    </tr>\n",
       "  </thead>\n",
       "  <tbody>\n",
       "    <tr>\n",
       "      <th>0</th>\n",
       "      <td>2013-01-22</td>\n",
       "      <td>1492.560059</td>\n",
       "      <td>NaN</td>\n",
       "      <td>NaN</td>\n",
       "      <td>NaN</td>\n",
       "      <td>NaN</td>\n",
       "      <td>NaN</td>\n",
       "    </tr>\n",
       "    <tr>\n",
       "      <th>1</th>\n",
       "      <td>2013-01-23</td>\n",
       "      <td>1494.810059</td>\n",
       "      <td>0.001506</td>\n",
       "      <td>NaN</td>\n",
       "      <td>NaN</td>\n",
       "      <td>NaN</td>\n",
       "      <td>NaN</td>\n",
       "    </tr>\n",
       "    <tr>\n",
       "      <th>2</th>\n",
       "      <td>2013-01-24</td>\n",
       "      <td>1494.819946</td>\n",
       "      <td>0.000007</td>\n",
       "      <td>0.000003</td>\n",
       "      <td>-0.000026</td>\n",
       "      <td>NaN</td>\n",
       "      <td>NaN</td>\n",
       "    </tr>\n",
       "    <tr>\n",
       "      <th>3</th>\n",
       "      <td>2013-01-25</td>\n",
       "      <td>1502.959961</td>\n",
       "      <td>0.005431</td>\n",
       "      <td>0.000005</td>\n",
       "      <td>-0.000034</td>\n",
       "      <td>NaN</td>\n",
       "      <td>NaN</td>\n",
       "    </tr>\n",
       "    <tr>\n",
       "      <th>4</th>\n",
       "      <td>2013-01-28</td>\n",
       "      <td>1500.180054</td>\n",
       "      <td>-0.001851</td>\n",
       "      <td>0.002874</td>\n",
       "      <td>-0.021140</td>\n",
       "      <td>NaN</td>\n",
       "      <td>NaN</td>\n",
       "    </tr>\n",
       "    <tr>\n",
       "      <th>5</th>\n",
       "      <td>2013-01-29</td>\n",
       "      <td>1507.839966</td>\n",
       "      <td>0.005093</td>\n",
       "      <td>0.002628</td>\n",
       "      <td>-0.019332</td>\n",
       "      <td>NaN</td>\n",
       "      <td>NaN</td>\n",
       "    </tr>\n",
       "    <tr>\n",
       "      <th>6</th>\n",
       "      <td>2013-01-30</td>\n",
       "      <td>1501.959961</td>\n",
       "      <td>-0.003907</td>\n",
       "      <td>0.003498</td>\n",
       "      <td>-0.025732</td>\n",
       "      <td>NaN</td>\n",
       "      <td>NaN</td>\n",
       "    </tr>\n",
       "    <tr>\n",
       "      <th>7</th>\n",
       "      <td>2013-01-31</td>\n",
       "      <td>1498.109985</td>\n",
       "      <td>-0.002567</td>\n",
       "      <td>0.003617</td>\n",
       "      <td>-0.026610</td>\n",
       "      <td>NaN</td>\n",
       "      <td>NaN</td>\n",
       "    </tr>\n",
       "    <tr>\n",
       "      <th>8</th>\n",
       "      <td>2013-02-01</td>\n",
       "      <td>1513.170044</td>\n",
       "      <td>0.010003</td>\n",
       "      <td>0.003356</td>\n",
       "      <td>-0.024691</td>\n",
       "      <td>NaN</td>\n",
       "      <td>NaN</td>\n",
       "    </tr>\n",
       "    <tr>\n",
       "      <th>9</th>\n",
       "      <td>2013-02-04</td>\n",
       "      <td>1495.709961</td>\n",
       "      <td>-0.011606</td>\n",
       "      <td>0.006010</td>\n",
       "      <td>-0.044216</td>\n",
       "      <td>NaN</td>\n",
       "      <td>NaN</td>\n",
       "    </tr>\n",
       "    <tr>\n",
       "      <th>10</th>\n",
       "      <td>2013-02-05</td>\n",
       "      <td>1511.290039</td>\n",
       "      <td>0.010363</td>\n",
       "      <td>0.007983</td>\n",
       "      <td>-0.058726</td>\n",
       "      <td>0.012471</td>\n",
       "      <td>0.0</td>\n",
       "    </tr>\n",
       "    <tr>\n",
       "      <th>11</th>\n",
       "      <td>2013-02-06</td>\n",
       "      <td>1512.119995</td>\n",
       "      <td>0.000549</td>\n",
       "      <td>0.008715</td>\n",
       "      <td>-0.064112</td>\n",
       "      <td>0.011513</td>\n",
       "      <td>0.0</td>\n",
       "    </tr>\n",
       "    <tr>\n",
       "      <th>12</th>\n",
       "      <td>2013-02-07</td>\n",
       "      <td>1509.390015</td>\n",
       "      <td>-0.001807</td>\n",
       "      <td>0.007401</td>\n",
       "      <td>-0.054442</td>\n",
       "      <td>0.009700</td>\n",
       "      <td>0.0</td>\n",
       "    </tr>\n",
       "    <tr>\n",
       "      <th>13</th>\n",
       "      <td>2013-02-08</td>\n",
       "      <td>1517.930054</td>\n",
       "      <td>0.005642</td>\n",
       "      <td>0.006352</td>\n",
       "      <td>-0.046728</td>\n",
       "      <td>0.009911</td>\n",
       "      <td>0.0</td>\n",
       "    </tr>\n",
       "    <tr>\n",
       "      <th>14</th>\n",
       "      <td>2013-02-11</td>\n",
       "      <td>1517.010010</td>\n",
       "      <td>-0.000606</td>\n",
       "      <td>0.006161</td>\n",
       "      <td>-0.045327</td>\n",
       "      <td>0.011156</td>\n",
       "      <td>0.0</td>\n",
       "    </tr>\n",
       "  </tbody>\n",
       "</table>\n",
       "</div>"
      ],
      "text/plain": [
       "         Date        SP500    Return    EMWA σ  10 Day VaR  10 Day Return  \\\n",
       "0  2013-01-22  1492.560059       NaN       NaN         NaN            NaN   \n",
       "1  2013-01-23  1494.810059  0.001506       NaN         NaN            NaN   \n",
       "2  2013-01-24  1494.819946  0.000007  0.000003   -0.000026            NaN   \n",
       "3  2013-01-25  1502.959961  0.005431  0.000005   -0.000034            NaN   \n",
       "4  2013-01-28  1500.180054 -0.001851  0.002874   -0.021140            NaN   \n",
       "5  2013-01-29  1507.839966  0.005093  0.002628   -0.019332            NaN   \n",
       "6  2013-01-30  1501.959961 -0.003907  0.003498   -0.025732            NaN   \n",
       "7  2013-01-31  1498.109985 -0.002567  0.003617   -0.026610            NaN   \n",
       "8  2013-02-01  1513.170044  0.010003  0.003356   -0.024691            NaN   \n",
       "9  2013-02-04  1495.709961 -0.011606  0.006010   -0.044216            NaN   \n",
       "10 2013-02-05  1511.290039  0.010363  0.007983   -0.058726       0.012471   \n",
       "11 2013-02-06  1512.119995  0.000549  0.008715   -0.064112       0.011513   \n",
       "12 2013-02-07  1509.390015 -0.001807  0.007401   -0.054442       0.009700   \n",
       "13 2013-02-08  1517.930054  0.005642  0.006352   -0.046728       0.009911   \n",
       "14 2013-02-11  1517.010010 -0.000606  0.006161   -0.045327       0.011156   \n",
       "\n",
       "    VaR Breach  \n",
       "0          NaN  \n",
       "1          NaN  \n",
       "2          NaN  \n",
       "3          NaN  \n",
       "4          NaN  \n",
       "5          NaN  \n",
       "6          NaN  \n",
       "7          NaN  \n",
       "8          NaN  \n",
       "9          NaN  \n",
       "10         0.0  \n",
       "11         0.0  \n",
       "12         0.0  \n",
       "13         0.0  \n",
       "14         0.0  "
      ]
     },
     "execution_count": 77,
     "metadata": {},
     "output_type": "execute_result"
    }
   ],
   "source": [
    "df_SP500_2.head(15)"
   ]
  },
  {
   "cell_type": "markdown",
   "id": "0e5ab080-6ed6-45e5-9ff9-5084a7114078",
   "metadata": {},
   "source": [
    "Then, we calculate the count of the VaR breaches by simply having the sum of the values of column 'VaR Breach'."
   ]
  },
  {
   "cell_type": "code",
   "execution_count": 78,
   "id": "3677eceb-ae3f-48a0-9bdd-9afdb18d2951",
   "metadata": {},
   "outputs": [
    {
     "data": {
      "text/plain": [
       "3"
      ]
     },
     "execution_count": 78,
     "metadata": {},
     "output_type": "execute_result"
    }
   ],
   "source": [
    "int(df_SP500_2['VaR Breach'].sum())"
   ]
  },
  {
   "cell_type": "markdown",
   "id": "f57657d8-c1c3-4109-aad3-97b6f4df70e8",
   "metadata": {},
   "source": [
    "Then, we calculate the percentage of the VaR breaches by dividing the VaR breaches with total data amount with valid VaR breach record, which is 10 less than the total data amount."
   ]
  },
  {
   "cell_type": "code",
   "execution_count": 79,
   "id": "51a4a18c-bcaa-4678-b75b-51f6150f9192",
   "metadata": {},
   "outputs": [
    {
     "data": {
      "text/plain": [
       "0.0024193548387096775"
      ]
     },
     "execution_count": 79,
     "metadata": {},
     "output_type": "execute_result"
    }
   ],
   "source": [
    "int(df_SP500_2['VaR Breach'].sum())/(len(df_SP500_2['VaR Breach'])-10)"
   ]
  },
  {
   "cell_type": "markdown",
   "id": "fef593cf-2a27-4f8b-adb6-9665dc153451",
   "metadata": {},
   "source": [
    "### There are 3 VaR breaches, which is 0.242% of the total data.  ###\n",
    "### This is good as well, and the result is similar to that based on 21 Day Rolling σ. ###"
   ]
  },
  {
   "cell_type": "markdown",
   "id": "f39c2e70-b31b-4c26-870b-4516fc47edfa",
   "metadata": {},
   "source": [
    "## (b) The count and percentage of consecutive VaR breaches. ##"
   ]
  },
  {
   "cell_type": "markdown",
   "id": "f7e76c32-7906-4e4c-bcac-b1cd7ed83d06",
   "metadata": {},
   "source": [
    "Since there are only 3 VaR breaches, I can directly isolate them from the data set by creating a new dataframe 'df_SP500_VaR_Breach'."
   ]
  },
  {
   "cell_type": "code",
   "execution_count": 80,
   "id": "932316f8-8dcc-468c-af33-c5001e585d94",
   "metadata": {},
   "outputs": [],
   "source": [
    "df_SP500_2_VaR_Breach = df_SP500_2[df_SP500_2['VaR Breach'] == 1]"
   ]
  },
  {
   "cell_type": "code",
   "execution_count": 82,
   "id": "a6b9ee11-57c6-4ba2-85e4-a6dd93999b8f",
   "metadata": {},
   "outputs": [
    {
     "data": {
      "text/html": [
       "<div>\n",
       "<style scoped>\n",
       "    .dataframe tbody tr th:only-of-type {\n",
       "        vertical-align: middle;\n",
       "    }\n",
       "\n",
       "    .dataframe tbody tr th {\n",
       "        vertical-align: top;\n",
       "    }\n",
       "\n",
       "    .dataframe thead th {\n",
       "        text-align: right;\n",
       "    }\n",
       "</style>\n",
       "<table border=\"1\" class=\"dataframe\">\n",
       "  <thead>\n",
       "    <tr style=\"text-align: right;\">\n",
       "      <th></th>\n",
       "      <th>Date</th>\n",
       "      <th>SP500</th>\n",
       "      <th>Return</th>\n",
       "      <th>EMWA σ</th>\n",
       "      <th>10 Day VaR</th>\n",
       "      <th>10 Day Return</th>\n",
       "      <th>VaR Breach</th>\n",
       "    </tr>\n",
       "  </thead>\n",
       "  <tbody>\n",
       "    <tr>\n",
       "      <th>750</th>\n",
       "      <td>2016-01-13</td>\n",
       "      <td>1890.280029</td>\n",
       "      <td>-0.025282</td>\n",
       "      <td>0.011187</td>\n",
       "      <td>-0.082294</td>\n",
       "      <td>-0.094854</td>\n",
       "      <td>1.0</td>\n",
       "    </tr>\n",
       "    <tr>\n",
       "      <th>916</th>\n",
       "      <td>2016-09-09</td>\n",
       "      <td>2127.810059</td>\n",
       "      <td>-0.024828</td>\n",
       "      <td>0.002499</td>\n",
       "      <td>-0.018381</td>\n",
       "      <td>-0.020771</td>\n",
       "      <td>1.0</td>\n",
       "    </tr>\n",
       "    <tr>\n",
       "      <th>1147</th>\n",
       "      <td>2017-08-10</td>\n",
       "      <td>2438.209961</td>\n",
       "      <td>-0.014580</td>\n",
       "      <td>0.001686</td>\n",
       "      <td>-0.012404</td>\n",
       "      <td>-0.015146</td>\n",
       "      <td>1.0</td>\n",
       "    </tr>\n",
       "  </tbody>\n",
       "</table>\n",
       "</div>"
      ],
      "text/plain": [
       "           Date        SP500    Return    EMWA σ  10 Day VaR  10 Day Return  \\\n",
       "750  2016-01-13  1890.280029 -0.025282  0.011187   -0.082294      -0.094854   \n",
       "916  2016-09-09  2127.810059 -0.024828  0.002499   -0.018381      -0.020771   \n",
       "1147 2017-08-10  2438.209961 -0.014580  0.001686   -0.012404      -0.015146   \n",
       "\n",
       "      VaR Breach  \n",
       "750          1.0  \n",
       "916          1.0  \n",
       "1147         1.0  "
      ]
     },
     "execution_count": 82,
     "metadata": {},
     "output_type": "execute_result"
    }
   ],
   "source": [
    "df_SP500_2_VaR_Breach"
   ]
  },
  {
   "cell_type": "markdown",
   "id": "1dd3ace3-d42e-4b34-b724-b0af2bef4548",
   "metadata": {},
   "source": [
    "### There is no consecutive VaR breach, 0% of the total data."
   ]
  },
  {
   "cell_type": "markdown",
   "id": "4be5247d-b8c1-48f8-bd5f-80f93693c79a",
   "metadata": {},
   "source": [
    "## (c) Provide a plot which identifies the breaches visually, with crosses or other marks. ##"
   ]
  },
  {
   "cell_type": "markdown",
   "id": "4a35fe9f-8baa-4606-accd-4c20168fd724",
   "metadata": {},
   "source": [
    "Since there are only 3 VaR breaches, I will only use cross mark to illustrate them and ignore the regular days.<br>\n",
    "Meanwhile, to focus on the dates with the breaches without having too much empty space, I will directly plot the dataframe 'df_SP500_2_VaR_Breach'."
   ]
  },
  {
   "cell_type": "code",
   "execution_count": 83,
   "id": "e75801b1-bc6d-47e5-adff-e2aaa6faaac0",
   "metadata": {},
   "outputs": [
    {
     "data": {
      "image/png": "[encoded data removed]",
      "text/plain": [
       "<Figure size 1000x300 with 1 Axes>"
      ]
     },
     "metadata": {},
     "output_type": "display_data"
    }
   ],
   "source": [
    "plt.figure(figsize=(10, 3))\n",
    "plt.scatter(df_SP500_2['Date'], df_SP500_2['VaR Breach'], color='r', marker='x')\n",
    "plt.xlabel('Date')\n",
    "plt.yticks([0, 1], ['No','Yes'])\n",
    "plt.title('VaR Breach Over Time - EMWA σ')\n",
    "plt.show()"
   ]
  },
  {
   "cell_type": "markdown",
   "id": "438ec030-7041-4c48-89d4-fc521cc1513d",
   "metadata": {},
   "source": [
    "Now, I would like to export the dataframe 'df_SP500_2' as Excel sheet to submit as part of the exame for full inspection. The plot image will also be copy-pasted to the Excel sheet."
   ]
  },
  {
   "cell_type": "code",
   "execution_count": 321,
   "id": "682290f2-e61d-4d42-865b-fbf131094e52",
   "metadata": {},
   "outputs": [],
   "source": [
    "df_SP500_2.to_excel('./Question_7.xlsx', index=False)"
   ]
  },
  {
   "cell_type": "markdown",
   "id": "7c88ea10-3565-42d9-adb4-b584af58ef61",
   "metadata": {},
   "source": [
    "# My answers to the exam are completed, thank you! #"
   ]
  }
 ],
 "metadata": {
  "kernelspec": {
   "display_name": "Python 3 (ipykernel)",
   "language": "python",
   "name": "python3"
  },
  "language_info": {
   "codemirror_mode": {
    "name": "ipython",
    "version": 3
   },
   "file_extension": ".py",
   "mimetype": "text/x-python",
   "name": "python",
   "nbconvert_exporter": "python",
   "pygments_lexer": "ipython3",
   "version": "3.10.16"
  }
 },
 "nbformat": 4,
 "nbformat_minor": 5
}
